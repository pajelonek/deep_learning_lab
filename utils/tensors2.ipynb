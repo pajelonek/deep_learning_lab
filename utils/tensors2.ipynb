{
 "cells": [
  {
   "cell_type": "code",
   "execution_count": 5,
   "id": "0dc89225",
   "metadata": {},
   "outputs": [
    {
     "name": "stdout",
     "output_type": "stream",
     "text": [
      "[[12]]\n",
      "<class 'numpy.ndarray'>\n",
      "int32\n",
      "2\n",
      "(1, 1)\n"
     ]
    }
   ],
   "source": [
    "import numpy as np\n",
    "x = np.array([[12]])\n",
    "print(x)\n",
    "print(type(x))\n",
    "print(x.dtype)\n",
    "print(x.ndim)\n",
    "print(x.shape)"
   ]
  },
  {
   "cell_type": "code",
   "execution_count": 6,
   "id": "b961ac15",
   "metadata": {},
   "outputs": [
    {
     "name": "stdout",
     "output_type": "stream",
     "text": [
      "[12  3  6 14]\n",
      "<class 'numpy.ndarray'>\n",
      "int32\n",
      "1\n",
      "(4,)\n",
      "4\n"
     ]
    }
   ],
   "source": [
    "x = np.array([12, 3, 6, 14])\n",
    "print(x)\n",
    "print(type(x))\n",
    "print(x.dtype)\n",
    "print(x.ndim)\n",
    "print(x.shape)\n",
    "print(len(x))"
   ]
  },
  {
   "cell_type": "code",
   "execution_count": 7,
   "id": "140c18c4",
   "metadata": {},
   "outputs": [
    {
     "name": "stdout",
     "output_type": "stream",
     "text": [
      "[[ 5 78  2 34  0]\n",
      " [ 6 79  3 35  1]\n",
      " [ 7 80  4 36  2]]\n",
      "<class 'numpy.ndarray'>\n",
      "int32\n",
      "2\n",
      "(3, 5)\n",
      "3\n"
     ]
    }
   ],
   "source": [
    "x = np.array([[5, 78, 2, 34, 0], [6, 79, 3, 35, 1], [7, 80, 4, 36, 2]])\n",
    "print(x)\n",
    "print(type(x))\n",
    "print(x.dtype)\n",
    "print(x.ndim)\n",
    "print(x.shape)\n",
    "print(len(x))"
   ]
  },
  {
   "cell_type": "code",
   "execution_count": 8,
   "id": "c5997f9e",
   "metadata": {},
   "outputs": [],
   "source": [
    "from tensorflow.keras.datasets import mnist\n",
    "(train_images, train_labels), (test_images, test_labels) = mnist.load_data()"
   ]
  },
  {
   "cell_type": "code",
   "execution_count": 9,
   "id": "b1ec7f32",
   "metadata": {},
   "outputs": [
    {
     "name": "stdout",
     "output_type": "stream",
     "text": [
      "3\n",
      "(60000, 28, 28)\n",
      "uint8\n"
     ]
    }
   ],
   "source": [
    "print(train_images.ndim)  #the number of axes of the tensor train_images\n",
    "print(train_images.shape)  #shape\n",
    "print(train_images.dtype)  #its data type"
   ]
  },
  {
   "cell_type": "code",
   "execution_count": 11,
   "id": "804be51f",
   "metadata": {},
   "outputs": [
    {
     "data": {
      "image/png": "[encoded data removed]",
      "text/plain": [
       "<Figure size 432x288 with 1 Axes>"
      ]
     },
     "metadata": {
      "needs_background": "light"
     },
     "output_type": "display_data"
    }
   ],
   "source": [
    "digit = train_images[8]\n",
    "import matplotlib.pyplot as plt\n",
    "plt.imshow(digit, cmap=plt.cm.binary)\n",
    "plt.show()"
   ]
  },
  {
   "cell_type": "code",
   "execution_count": 14,
   "id": "23c73c81",
   "metadata": {},
   "outputs": [
    {
     "name": "stdout",
     "output_type": "stream",
     "text": [
      "(90, 8, 13)\n"
     ]
    }
   ],
   "source": [
    "my_slice = train_images[10:100,1:9,12:25]  #selects digits #10 to #100 (#100 isn’t included)\n",
    "print(my_slice.shape)"
   ]
  },
  {
   "cell_type": "code",
   "execution_count": 15,
   "id": "edccbafa",
   "metadata": {},
   "outputs": [],
   "source": [
    "batch = train_images[:128]"
   ]
  },
  {
   "cell_type": "code",
   "execution_count": 17,
   "id": "5abc4b31",
   "metadata": {},
   "outputs": [
    {
     "data": {
      "text/plain": [
       "(128, 28, 28)"
      ]
     },
     "execution_count": 17,
     "metadata": {},
     "output_type": "execute_result"
    }
   ],
   "source": [
    "batch.shape"
   ]
  },
  {
   "cell_type": "code",
   "execution_count": 22,
   "id": "202ad32c",
   "metadata": {},
   "outputs": [
    {
     "name": "stdout",
     "output_type": "stream",
     "text": [
      "[[1. 1. 1.]\n",
      " [1. 1. 1.]]\n",
      "[[14 32]\n",
      " [32 77]]\n"
     ]
    }
   ],
   "source": [
    "import numpy as np\n",
    "a = np.array([[1,2,3],[4,5,6]])\n",
    "b = np.array([[1,2,3],[4,5,6]])\n",
    "print(a/b)\n",
    "print(np.matmul(a,b.T))"
   ]
  },
  {
   "cell_type": "code",
   "execution_count": 23,
   "id": "7492df9b",
   "metadata": {},
   "outputs": [],
   "source": [
    "def naive_add(x, y):\n",
    "    assert len(x.shape) == 2\n",
    "    assert x.shape == y.shape\n",
    "    x = x.copy()\n",
    "    for i in range(x.shape[0]):\n",
    "        for j in range(x.shape[1]):\n",
    "            x[i, j] += y[i, j]\n",
    "    return x"
   ]
  },
  {
   "cell_type": "code",
   "execution_count": 26,
   "id": "801a4091",
   "metadata": {},
   "outputs": [
    {
     "name": "stdout",
     "output_type": "stream",
     "text": [
      "[[ -5 -78   2  34   0]\n",
      " [  6 -79   3  35   1]\n",
      " [  7  80  -4 -36   2]]\n",
      "[[ 100  100  100  100  100]\n",
      " [ 100  100  100  100  100]\n",
      " [-100 -100 -100 -100 -100]]\n",
      "[[ 95.  22. 102. 134. 100.]\n",
      " [106.  21. 103. 135. 101.]\n",
      " [  0.   0.   0.   0.   0.]]\n"
     ]
    }
   ],
   "source": [
    "x = np.array([[-5, -78, 2, 34, 0], [6, -79, 3, 35, 1], [7, 80, -4, -36, 2]])\n",
    "y = np.array([[100, 100, 100, 100, 100], [100, 100, 100, 100, 100], [-100, -100, -100, -100, -100]])\n",
    "print(x)\n",
    "print(y)\n",
    "print(np.maximum(naive_add(x,y), 0.))"
   ]
  },
  {
   "cell_type": "code",
   "execution_count": 27,
   "id": "877f83c4",
   "metadata": {},
   "outputs": [],
   "source": [
    "def naive_relu(x):\n",
    "    assert len(x.shape) == 2  #lets you test if a condition in your code returns True\n",
    "                                #x is a 2D Numpy tensor\n",
    "    x = x.copy()  #avoid overwriting the input tensor\n",
    "    for i in range(x.shape[0]):\n",
    "        for j in range(x.shape[1]):\n",
    "            x[i, j] = max(x[i, j], 0)\n",
    "    return x"
   ]
  },
  {
   "cell_type": "code",
   "execution_count": 29,
   "id": "3ad16879",
   "metadata": {},
   "outputs": [
    {
     "name": "stdout",
     "output_type": "stream",
     "text": [
      "[[ 95  22 102 134 100]\n",
      " [106  21 103 135 101]\n",
      " [  0   0   0   0   0]]\n"
     ]
    }
   ],
   "source": [
    "print(naive_relu(naive_add(x,y)))"
   ]
  },
  {
   "cell_type": "code",
   "execution_count": 30,
   "id": "f0c5d5dd",
   "metadata": {},
   "outputs": [],
   "source": [
    "#broadcasting\n"
   ]
  },
  {
   "cell_type": "code",
   "execution_count": 35,
   "id": "a34726af",
   "metadata": {},
   "outputs": [
    {
     "name": "stdout",
     "output_type": "stream",
     "text": [
      "[[ 0  0  0]\n",
      " [10 10 10]\n",
      " [20 20 20]\n",
      " [30 30 30]]\n",
      "[0 1 2]\n",
      "[[ 0  1  2]\n",
      " [10 11 12]\n",
      " [20 21 22]\n",
      " [30 31 32]]\n"
     ]
    }
   ],
   "source": [
    "a = np.tile(np.arange(0, 40, 10), (3, 1)).T\n",
    "print(a)\n",
    "b = np.array([0, 1, 2])\n",
    "print(b)\n",
    "print(a + b)"
   ]
  },
  {
   "cell_type": "code",
   "execution_count": 37,
   "id": "12f1f525",
   "metadata": {},
   "outputs": [
    {
     "data": {
      "text/plain": [
       "array([[1., 1., 1., 1., 1.],\n",
       "       [1., 1., 1., 1., 1.],\n",
       "       [1., 1., 1., 1., 1.],\n",
       "       [1., 1., 1., 1., 1.]])"
      ]
     },
     "execution_count": 37,
     "metadata": {},
     "output_type": "execute_result"
    }
   ],
   "source": [
    "a = np.ones((4, 5))\n",
    "a"
   ]
  },
  {
   "cell_type": "code",
   "execution_count": 41,
   "id": "eed650a0",
   "metadata": {},
   "outputs": [
    {
     "name": "stdout",
     "output_type": "stream",
     "text": [
      "(4, 5)\n"
     ]
    }
   ],
   "source": [
    "a[0] = 4\n",
    "a\n",
    "print(a.shape)"
   ]
  },
  {
   "cell_type": "code",
   "execution_count": 45,
   "id": "b5ed87ba",
   "metadata": {},
   "outputs": [
    {
     "name": "stdout",
     "output_type": "stream",
     "text": [
      "(4, 1, 1, 5)\n"
     ]
    }
   ],
   "source": [
    "a = a[:,: , np.newaxis]  # adds a new axis -> 2D array\n",
    "print(a.shape)"
   ]
  },
  {
   "cell_type": "code",
   "execution_count": 43,
   "id": "72fb8744",
   "metadata": {},
   "outputs": [
    {
     "name": "stdout",
     "output_type": "stream",
     "text": [
      "[[[4. 4. 4. 4. 4.]]\n",
      "\n",
      " [[1. 1. 1. 1. 1.]]\n",
      "\n",
      " [[1. 1. 1. 1. 1.]]\n",
      "\n",
      " [[1. 1. 1. 1. 1.]]]\n"
     ]
    }
   ],
   "source": [
    "print(a)"
   ]
  },
  {
   "cell_type": "code",
   "execution_count": 47,
   "id": "ca5cc64e",
   "metadata": {},
   "outputs": [
    {
     "data": {
      "text/plain": [
       "array([[7.54807583e-01, 1.94437757e-01, 7.33099709e-01, 4.08303345e-02,\n",
       "        9.16391886e-01, 8.79944636e-01, 7.66399416e-01, 8.02047414e-01,\n",
       "        7.26774026e-01, 9.70152999e-01],\n",
       "       [6.65796759e-04, 8.70213027e-01, 2.17948434e-01, 4.63539190e-01,\n",
       "        5.53897172e-01, 1.56405280e-01, 9.71789634e-01, 6.87075783e-01,\n",
       "        5.60724692e-01, 5.09010671e-01],\n",
       "       [9.17124798e-01, 1.60013336e-01, 5.25789673e-02, 5.28707542e-01,\n",
       "        1.07092350e-01, 1.26050490e-01, 3.80020112e-01, 4.78775642e-01,\n",
       "        9.96196739e-01, 4.80841244e-01],\n",
       "       [3.97089779e-01, 2.65373010e-01, 8.78839596e-01, 3.66630616e-01,\n",
       "        5.98447618e-01, 6.26470142e-01, 5.90156534e-02, 1.22929691e-01,\n",
       "        3.17022277e-01, 8.49438866e-01],\n",
       "       [3.96392974e-01, 5.41007341e-01, 1.02413617e-02, 8.52531973e-01,\n",
       "        2.98808841e-01, 5.23798764e-02, 9.41184310e-01, 7.29233270e-01,\n",
       "        5.58354463e-01, 7.84468991e-01],\n",
       "       [1.74118383e-01, 7.97898074e-01, 3.60223198e-01, 8.27998512e-01,\n",
       "        4.58298621e-01, 5.50906393e-01, 3.57701265e-01, 2.95941563e-01,\n",
       "        9.46102931e-01, 4.70533387e-01],\n",
       "       [3.22475439e-01, 3.59214012e-01, 3.12926349e-01, 6.99013222e-01,\n",
       "        9.25476977e-01, 8.81504760e-01, 2.35574205e-01, 6.25255693e-01,\n",
       "        9.93576267e-01, 3.25624890e-01],\n",
       "       [1.98451821e-01, 4.71879586e-01, 1.39257373e-01, 7.79484004e-01,\n",
       "        6.37535771e-01, 9.24033196e-01, 1.37081719e-01, 7.85276703e-01,\n",
       "        1.16460471e-01, 2.45972560e-02],\n",
       "       [1.19389310e-01, 8.27093760e-01, 2.53647168e-02, 4.25067034e-01,\n",
       "        5.83247665e-01, 6.60891971e-01, 8.82008236e-01, 7.64724994e-02,\n",
       "        4.66054201e-01, 9.01329719e-01],\n",
       "       [8.71644466e-01, 8.62321525e-01, 9.90740270e-01, 9.47531935e-01,\n",
       "        9.33095008e-01, 3.56022608e-01, 5.84097416e-01, 3.44965726e-01,\n",
       "        4.16310862e-01, 2.16844748e-01],\n",
       "       [3.79074047e-02, 6.08555009e-01, 8.89395670e-01, 3.38382540e-01,\n",
       "        6.36229006e-02, 2.27857152e-01, 3.19426192e-01, 7.19046020e-01,\n",
       "        3.21410394e-01, 6.25861017e-01],\n",
       "       [8.27754506e-01, 5.30111101e-01, 6.96249999e-01, 9.99956529e-01,\n",
       "        9.79303901e-01, 2.01774159e-01, 6.13220991e-01, 8.74507106e-01,\n",
       "        7.68542583e-01, 8.40322071e-01],\n",
       "       [5.62613980e-01, 2.10288679e-01, 8.21493865e-02, 4.70044997e-01,\n",
       "        9.79633663e-01, 7.56290919e-01, 3.10948067e-01, 8.67314790e-01,\n",
       "        6.40927779e-01, 2.51184607e-02],\n",
       "       [1.59103997e-01, 9.81041966e-01, 5.67948489e-01, 9.79490821e-01,\n",
       "        3.74981286e-01, 6.53580256e-01, 3.90387086e-01, 5.90971233e-01,\n",
       "        8.36579540e-01, 4.96232962e-01],\n",
       "       [3.14286055e-01, 9.81986796e-01, 7.28862104e-01, 9.04981924e-01,\n",
       "        2.29760288e-01, 9.59594689e-01, 5.52781160e-01, 8.97031657e-01,\n",
       "        3.95493212e-01, 7.43553518e-02],\n",
       "       [7.01769124e-01, 3.92944405e-01, 6.14606038e-01, 7.46542038e-01,\n",
       "        6.78461431e-01, 9.32132928e-01, 1.83054097e-02, 6.29315210e-01,\n",
       "        5.76675380e-01, 1.20641617e-02],\n",
       "       [5.54670519e-01, 3.14138000e-01, 2.07057567e-01, 5.48209831e-01,\n",
       "        4.90305403e-01, 3.93888010e-02, 6.88748020e-01, 9.26597906e-01,\n",
       "        5.21454615e-01, 1.69093645e-01],\n",
       "       [2.80219650e-01, 1.46486350e-02, 4.12405579e-01, 7.64796109e-01,\n",
       "        8.59670897e-01, 6.26245068e-01, 9.42769558e-01, 9.08488348e-01,\n",
       "        4.48203556e-01, 5.09377783e-01],\n",
       "       [4.95324575e-01, 8.42572066e-02, 3.29979805e-01, 7.75595681e-01,\n",
       "        1.39819982e-01, 7.29833961e-01, 3.61829588e-01, 3.26788672e-01,\n",
       "        2.39182833e-01, 5.84071694e-01],\n",
       "       [4.83381735e-02, 5.37039645e-01, 4.58251639e-01, 4.63948007e-01,\n",
       "        7.39990627e-01, 5.89298619e-01, 6.93877768e-01, 1.21031508e-01,\n",
       "        2.76012474e-01, 4.66819768e-01],\n",
       "       [7.55332706e-01, 3.72056435e-01, 2.97024655e-01, 7.58242550e-01,\n",
       "        4.09770604e-01, 9.46166595e-01, 8.04523502e-01, 3.83599495e-01,\n",
       "        4.73197236e-01, 9.54658505e-01],\n",
       "       [8.47247676e-01, 6.88286483e-01, 4.27177666e-01, 7.48080031e-01,\n",
       "        9.51364993e-01, 1.43447374e-01, 4.30305776e-01, 9.03499600e-01,\n",
       "        3.62346558e-01, 1.36017745e-02],\n",
       "       [9.09343798e-01, 6.50408622e-01, 9.37171995e-01, 2.95009948e-01,\n",
       "        1.06121550e-01, 7.08739439e-01, 2.94636598e-01, 5.62362942e-03,\n",
       "        6.45579426e-01, 6.63284207e-01],\n",
       "       [4.47062029e-02, 5.83140488e-01, 5.91251208e-01, 4.27901353e-01,\n",
       "        2.96340609e-01, 4.25165024e-01, 7.26945217e-02, 5.08271572e-01,\n",
       "        4.72743274e-01, 9.72616842e-01],\n",
       "       [6.90499124e-01, 2.44073179e-02, 3.87629048e-01, 5.84622708e-01,\n",
       "        9.70264662e-01, 8.09702433e-01, 1.98916277e-01, 7.90523191e-01,\n",
       "        2.83923531e-01, 1.80292785e-01],\n",
       "       [8.20414077e-01, 6.84268919e-01, 8.39632824e-01, 2.50526484e-01,\n",
       "        4.70562112e-01, 7.81496769e-01, 9.70213792e-01, 4.68691719e-02,\n",
       "        1.84400427e-01, 5.28931063e-01],\n",
       "       [1.01245137e-01, 3.88568721e-01, 7.57484393e-01, 8.20208733e-01,\n",
       "        2.71337538e-01, 5.34744933e-01, 5.55555904e-01, 9.12456636e-01,\n",
       "        3.24842278e-01, 4.94245559e-01],\n",
       "       [9.13260263e-01, 2.20381356e-01, 4.32557666e-01, 1.69868555e-01,\n",
       "        8.16423083e-01, 6.46859094e-01, 3.08008859e-01, 2.63885797e-01,\n",
       "        3.68036392e-01, 1.46050926e-01],\n",
       "       [5.86878500e-01, 3.21844353e-02, 5.34460802e-02, 1.69455904e-02,\n",
       "        7.52408730e-01, 1.80914628e-01, 2.95590775e-01, 7.18449264e-01,\n",
       "        1.70699947e-01, 9.88982548e-01],\n",
       "       [1.77758148e-02, 4.36176847e-01, 4.45571384e-01, 4.81868098e-01,\n",
       "        6.87465409e-01, 3.28875670e-01, 7.26740953e-01, 3.53965086e-01,\n",
       "        9.05896856e-01, 8.31703066e-01],\n",
       "       [8.68581746e-01, 2.41743580e-01, 4.47515717e-01, 3.91964738e-01,\n",
       "        2.13965855e-01, 3.60762907e-01, 2.28849577e-01, 1.52098451e-01,\n",
       "        2.81524816e-01, 4.12508614e-02],\n",
       "       [4.43057955e-01, 3.22668550e-01, 5.82557576e-01, 1.23962707e-01,\n",
       "        1.87377062e-02, 7.27113841e-01, 1.76919883e-01, 9.11627992e-01,\n",
       "        4.67961011e-01, 8.22990505e-01]])"
      ]
     },
     "execution_count": 47,
     "metadata": {},
     "output_type": "execute_result"
    }
   ],
   "source": [
    "y = np.random.random((32, 10))\n",
    "y"
   ]
  },
  {
   "cell_type": "code",
   "execution_count": 59,
   "id": "1304380a",
   "metadata": {},
   "outputs": [
    {
     "name": "stdout",
     "output_type": "stream",
     "text": [
      "[0. 1. 2.]\n",
      "1.0\n"
     ]
    }
   ],
   "source": [
    "b = np.array([0, 1, 2], dtype=np.float64)\n",
    "print(b)\n",
    "print(b[-2])"
   ]
  },
  {
   "cell_type": "code",
   "execution_count": 49,
   "id": "bf38a791",
   "metadata": {},
   "outputs": [
    {
     "data": {
      "text/plain": [
       "array([[ 0, 10, 20, 30],\n",
       "       [ 0, 10, 20, 30],\n",
       "       [ 0, 10, 20, 30]])"
      ]
     },
     "execution_count": 49,
     "metadata": {},
     "output_type": "execute_result"
    }
   ],
   "source": [
    "a = np.tile(np.arange(0, 40, 10), (3, 1))\n",
    "a"
   ]
  },
  {
   "cell_type": "code",
   "execution_count": 54,
   "id": "bf52f979",
   "metadata": {},
   "outputs": [
    {
     "name": "stdout",
     "output_type": "stream",
     "text": [
      "[ 0 10 20 30  0 10 20 30  0 10 20 30]\n"
     ]
    }
   ],
   "source": [
    "print(a.reshape(12))"
   ]
  },
  {
   "cell_type": "markdown",
   "id": "e5b9a683",
   "metadata": {},
   "source": [
    "## Tensory w PyTorch"
   ]
  },
  {
   "cell_type": "code",
   "execution_count": 61,
   "id": "3069df5a",
   "metadata": {},
   "outputs": [],
   "source": [
    "import torch\n",
    "data = [[1, 2],[3, 4]]\n",
    "x_data = torch.tensor(data)"
   ]
  },
  {
   "cell_type": "code",
   "execution_count": 62,
   "id": "f1978fc5",
   "metadata": {},
   "outputs": [
    {
     "data": {
      "text/plain": [
       "tensor([[1, 2],\n",
       "        [3, 4]])"
      ]
     },
     "execution_count": 62,
     "metadata": {},
     "output_type": "execute_result"
    }
   ],
   "source": [
    "x_data"
   ]
  },
  {
   "cell_type": "code",
   "execution_count": 64,
   "id": "58029fcd",
   "metadata": {},
   "outputs": [
    {
     "data": {
      "text/plain": [
       "tensor([[1, 2],\n",
       "        [3, 4]], dtype=torch.int32)"
      ]
     },
     "execution_count": 64,
     "metadata": {},
     "output_type": "execute_result"
    }
   ],
   "source": [
    "np_array = np.array(data)\n",
    "x_np = torch.from_numpy(np_array)\n",
    "x_np"
   ]
  },
  {
   "cell_type": "code",
   "execution_count": 65,
   "id": "c2fe0f10",
   "metadata": {},
   "outputs": [
    {
     "name": "stdout",
     "output_type": "stream",
     "text": [
      "Ones Tensor: \n",
      " tensor([[1, 1],\n",
      "        [1, 1]]) \n",
      "\n",
      "Random Tensor: \n",
      " tensor([[0.0936, 0.8739],\n",
      "        [0.9465, 0.6613]]) \n",
      "\n"
     ]
    }
   ],
   "source": [
    "x_ones = torch.ones_like(x_data) # retains the properties of x_data\n",
    "print(f\"Ones Tensor: \\n {x_ones} \\n\")\n",
    "\n",
    "x_rand = torch.rand_like(x_data, dtype=torch.float) # overrides the datatype of x_data\n",
    "print(f\"Random Tensor: \\n {x_rand} \\n\")"
   ]
  },
  {
   "cell_type": "code",
   "execution_count": 66,
   "id": "063e51d6",
   "metadata": {},
   "outputs": [
    {
     "name": "stdout",
     "output_type": "stream",
     "text": [
      "Random Tensor: \n",
      " tensor([[0.2937, 0.2363, 0.0636],\n",
      "        [0.5123, 0.9273, 0.7254]]) \n",
      "\n",
      "Ones Tensor: \n",
      " tensor([[1., 1., 1.],\n",
      "        [1., 1., 1.]]) \n",
      "\n",
      "Zeros Tensor: \n",
      " tensor([[0., 0., 0.],\n",
      "        [0., 0., 0.]])\n"
     ]
    }
   ],
   "source": [
    "shape = (2,3,)\n",
    "rand_tensor = torch.rand(shape)\n",
    "ones_tensor = torch.ones(shape)\n",
    "zeros_tensor = torch.zeros(shape)\n",
    "\n",
    "print(f\"Random Tensor: \\n {rand_tensor} \\n\")\n",
    "print(f\"Ones Tensor: \\n {ones_tensor} \\n\")\n",
    "print(f\"Zeros Tensor: \\n {zeros_tensor}\")"
   ]
  },
  {
   "cell_type": "code",
   "execution_count": 67,
   "id": "239a78ab",
   "metadata": {},
   "outputs": [
    {
     "name": "stdout",
     "output_type": "stream",
     "text": [
      "torch.float32\n",
      "torch.Size([3])\n",
      "tensor(14.)\n",
      "tensor(14.)\n"
     ]
    }
   ],
   "source": [
    "import torch\n",
    "b = torch.tensor([1., 2., 3.])\n",
    "print(b.dtype)\n",
    "print(b.shape)\n",
    "print(b.matmul(b))\n",
    "#this works too\n",
    "print(b.dot(b))"
   ]
  },
  {
   "cell_type": "code",
   "execution_count": 68,
   "id": "8f9cf826",
   "metadata": {},
   "outputs": [
    {
     "name": "stdout",
     "output_type": "stream",
     "text": [
      "True\n",
      "tensor([1., 2., 3.], device='cuda:0')\n"
     ]
    }
   ],
   "source": [
    "print(torch.cuda.is_available())\n",
    "#Loading Data onto the GPU\n",
    "b = b.to(torch.device('cuda:0'))\n",
    "print(b)"
   ]
  },
  {
   "cell_type": "code",
   "execution_count": 71,
   "id": "ca010337",
   "metadata": {},
   "outputs": [
    {
     "name": "stdout",
     "output_type": "stream",
     "text": [
      "tensor([1., 2., 3.])\n",
      "tensor([1., 2., 3.], device='cuda:0')\n"
     ]
    }
   ],
   "source": [
    "b.to(torch.device('cpu'))\n",
    "print(b.cpu())\n",
    "print(b)"
   ]
  },
  {
   "cell_type": "code",
   "execution_count": null,
   "id": "d3d99d00",
   "metadata": {},
   "outputs": [],
   "source": []
  }
 ],
 "metadata": {
  "kernelspec": {
   "display_name": "Python 3",
   "language": "python",
   "name": "python3"
  },
  "language_info": {
   "codemirror_mode": {
    "name": "ipython",
    "version": 3
   },
   "file_extension": ".py",
   "mimetype": "text/x-python",
   "name": "python",
   "nbconvert_exporter": "python",
   "pygments_lexer": "ipython3",
   "version": "3.9.9"
  }
 },
 "nbformat": 4,
 "nbformat_minor": 5
}
