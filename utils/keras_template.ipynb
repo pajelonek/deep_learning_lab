{
 "cells": [
  {
   "cell_type": "markdown",
   "metadata": {},
   "source": [
    "**Keras**\n",
    "\n",
    "tensorflow.keras....\n",
    "\n",
    "1. Model\n",
    "2. Kompilacja modelu\n",
    "3. Fitowanie modelu\n",
    "4. Testowanie modelu\n",
    "5. Użycie modelu (klasyfikacja: predykcja, regresja: liczba)"
   ]
  },
  {
   "cell_type": "code",
   "execution_count": 1,
   "metadata": {},
   "outputs": [],
   "source": [
    "from tensorflow.keras.layers import Input, Conv2D, Dense, Activation, Dropout, MaxPooling2D, AveragePooling2D, Flatten, concatenate\n",
    "from tensorflow.keras.models import Model, Sequential\n",
    "from tensorflow.keras.optimizers import Adam, SGD\n",
    "from tensorflow.keras.datasets import mnist, cifar10\n",
    "\n",
    "import tensorflow as tf\n",
    "import numpy as np\n",
    "import matplotlib.pyplot as plt"
   ]
  },
  {
   "cell_type": "markdown",
   "metadata": {},
   "source": [
    "**HYPERPARAMETERS**"
   ]
  },
  {
   "cell_type": "code",
   "execution_count": 2,
   "metadata": {},
   "outputs": [],
   "source": [
    "epochS=5\n",
    "batch=128\n",
    "lr0=1e-3"
   ]
  },
  {
   "cell_type": "markdown",
   "metadata": {},
   "source": [
    "**DANE**"
   ]
  },
  {
   "cell_type": "code",
   "execution_count": 3,
   "metadata": {},
   "outputs": [],
   "source": [
    "#MNIST\n",
    "(trainX, trainY), (testX, testY)= mnist.load_data()\n",
    "trainX=trainX[...,None].astype(\"float32\") /255.0\n",
    "testX=testX[...,np.newaxis].astype(\"float32\") /255.0"
   ]
  },
  {
   "cell_type": "code",
   "execution_count": 4,
   "metadata": {},
   "outputs": [],
   "source": [
    "#trainX[1,1,1,]\n",
    "#trainX.size\n",
    "#trainX.ndim\n",
    "shapeI=trainX.shape[1:4]"
   ]
  },
  {
   "cell_type": "code",
   "execution_count": 6,
   "metadata": {},
   "outputs": [
    {
     "data": {
      "text/plain": [
       "(28, 28, 1)"
      ]
     },
     "execution_count": 6,
     "metadata": {},
     "output_type": "execute_result"
    }
   ],
   "source": [
    "shapeI"
   ]
  },
  {
   "cell_type": "code",
   "execution_count": 8,
   "metadata": {},
   "outputs": [
    {
     "data": {
      "text/plain": [
       "9"
      ]
     },
     "execution_count": 8,
     "metadata": {},
     "output_type": "execute_result"
    }
   ],
   "source": [
    "#trainY.shape\n",
    "trainY[3310]"
   ]
  },
  {
   "cell_type": "code",
   "execution_count": 9,
   "metadata": {},
   "outputs": [],
   "source": [
    "from sklearn.preprocessing import LabelBinarizer\n",
    "lb=LabelBinarizer()\n",
    "trainY=lb.fit_transform(trainY)\n",
    "testY=lb.transform(testY)"
   ]
  },
  {
   "cell_type": "code",
   "execution_count": 10,
   "metadata": {},
   "outputs": [
    {
     "data": {
      "text/plain": [
       "array([0, 0, 0, 0, 0, 0, 0, 1, 0, 0])"
      ]
     },
     "execution_count": 10,
     "metadata": {},
     "output_type": "execute_result"
    }
   ],
   "source": [
    "trainY[3210]"
   ]
  },
  {
   "cell_type": "code",
   "execution_count": 11,
   "metadata": {},
   "outputs": [],
   "source": [
    "#CIFAR10\n",
    "(trainX, trainY), (testX, testY)= cifar10.load_data()\n",
    "trainX=trainX.astype(\"float32\") /255.0\n",
    "testX=testX.astype(\"float32\") /255.0"
   ]
  },
  {
   "cell_type": "code",
   "execution_count": 13,
   "metadata": {},
   "outputs": [
    {
     "data": {
      "text/plain": [
       "(50000, 32, 32, 3)"
      ]
     },
     "execution_count": 13,
     "metadata": {},
     "output_type": "execute_result"
    }
   ],
   "source": [
    "trainX.shape\n",
    "#trainX[20,10,10,2]\n",
    "#shapeI=trainX.shape[1:4]\n",
    "#shapeI"
   ]
  },
  {
   "cell_type": "code",
   "execution_count": 14,
   "metadata": {},
   "outputs": [],
   "source": [
    "from sklearn.preprocessing import LabelBinarizer\n",
    "lb=LabelBinarizer()\n",
    "trainY=lb.fit_transform(trainY)\n",
    "testY=lb.transform(testY)\n",
    "nazwy=[\"airplane\", \"automobile\", \"bird\", \"cat\", \"deer\", \"dog\", \"frog\", \"horse\", \"ship\", \"truck\"]"
   ]
  },
  {
   "cell_type": "code",
   "execution_count": 15,
   "metadata": {},
   "outputs": [
    {
     "data": {
      "text/plain": [
       "array([0, 0, 0, 0, 0, 0, 1, 0, 0, 0])"
      ]
     },
     "execution_count": 15,
     "metadata": {},
     "output_type": "execute_result"
    }
   ],
   "source": [
    "testY[140]"
   ]
  },
  {
   "cell_type": "markdown",
   "metadata": {},
   "source": [
    "**Ad 1**"
   ]
  },
  {
   "cell_type": "markdown",
   "metadata": {},
   "source": [
    "**A) API sekwencyjne**"
   ]
  },
  {
   "cell_type": "code",
   "execution_count": 16,
   "metadata": {},
   "outputs": [],
   "source": [
    "shapeI=trainX.shape[1:4]\n",
    "ile_klas=trainY.shape[1]  #ile_klas\n",
    "\n",
    "#feature extraction\n",
    "model=Sequential()\n",
    "model.add(Input(shape=shapeI))\n",
    "#model.add(Conv2D(32, (3,3), padding=\"same\", input_shape=shapeI))\n",
    "model.add(Conv2D(32, (3,3), padding=\"same\"))\n",
    "model.add(Activation('relu'))\n",
    "\n",
    "#klasyfikator\n",
    "model.add(Flatten())\n",
    "model.add(Dense(ile_klas))\n",
    "model.add(Activation('softmax'))  #sigmoid dla dwóch klas"
   ]
  },
  {
   "cell_type": "markdown",
   "metadata": {},
   "source": [
    "**B) API funkcjonalne**"
   ]
  },
  {
   "cell_type": "code",
   "execution_count": 17,
   "metadata": {},
   "outputs": [],
   "source": [
    "shapeI=trainX.shape[1:4]\n",
    "ile_klas=trainY.shape[1]  #ile_klas\n",
    "\n",
    "#feature extraction\n",
    "x_wej=Input(shape=shapeI)\n",
    "\n",
    "#wer 1\n",
    "x=Conv2D(32, (3,3), padding=\"same\")(x_wej)\n",
    "\n",
    "#wer 2\n",
    "x1=Conv2D(32, (3,3), padding=\"same\")(x_wej)\n",
    "x2=Conv2D(32, (5,5), padding=\"same\")(x_wej)\n",
    "x=concatenate([x1, x2])\n",
    "\n",
    "x=Activation('relu')(x)\n",
    "\n",
    "#klasyfikator\n",
    "x=Flatten()(x)\n",
    "x=Dense(ile_klas)(x)\n",
    "x=Activation('softmax')(x)\n",
    "model = Model(x_wej, x, name=\"MojModel\")"
   ]
  },
  {
   "cell_type": "markdown",
   "metadata": {},
   "source": [
    "**C) podklasa klasy Model**"
   ]
  },
  {
   "cell_type": "code",
   "execution_count": 18,
   "metadata": {},
   "outputs": [],
   "source": [
    "shapeI=trainX.shape[1:4]\n",
    "ile_klas=trainY.shape[1]  #ile_klas\n",
    "\n",
    "class MojModel(Model):\n",
    "    def __init__(self):\n",
    "        super(MojModel, self).__init__()  #rodzic\n",
    "        self.l1=Conv2D(32, (3,3), padding=\"same\")\n",
    "        self.l2=Activation('relu')\n",
    "        self.l3=Flatten()\n",
    "        self.l4=Dense(ile_klas)\n",
    "        self.l5=Activation('softmax')\n",
    "        \n",
    "    #topologia sieci\n",
    "    def call(self,x):\n",
    "        x=self.l1(x)\n",
    "        x=self.l2(x)\n",
    "        x=self.l3(x)\n",
    "        x=self.l4(x)\n",
    "        x=self.l5(x)\n",
    "        return x\n",
    "\n",
    "model=MojModel()"
   ]
  },
  {
   "cell_type": "markdown",
   "metadata": {},
   "source": [
    "**Ad 2**\n",
    "\n",
    "loss:<br>\n",
    "regresja: mean_squared_error<br>\n",
    "klasifikacja binarna: binary_crossentropy<br>\n",
    "klasyfikacja multi: categorical_crossentropy\n",
    "\n",
    "optimizer:<br>\n",
    "Adam<br>\n",
    "SGD<br>\n",
    "RMProp"
   ]
  },
  {
   "cell_type": "code",
   "execution_count": 19,
   "metadata": {},
   "outputs": [],
   "source": [
    "opt=SGD(momentum=0.4, learning_rate=lr0)\n",
    "model.compile(optimizer=opt, loss='categorical_crossentropy', metrics=['accuracy'])"
   ]
  },
  {
   "cell_type": "markdown",
   "metadata": {},
   "source": [
    "**Ad 3**"
   ]
  },
  {
   "cell_type": "code",
   "execution_count": 20,
   "metadata": {},
   "outputs": [
    {
     "name": "stdout",
     "output_type": "stream",
     "text": [
      "Epoch 1/5\n",
      "391/391 [==============================] - 12s 17ms/step - loss: 2.1872 - accuracy: 0.2278\n",
      "Epoch 2/5\n",
      "391/391 [==============================] - 6s 17ms/step - loss: 1.9976 - accuracy: 0.3114\n",
      "Epoch 3/5\n",
      "391/391 [==============================] - 6s 17ms/step - loss: 1.9151 - accuracy: 0.3381\n",
      "Epoch 4/5\n",
      "391/391 [==============================] - 6s 17ms/step - loss: 1.8725 - accuracy: 0.3528\n",
      "Epoch 5/5\n",
      "391/391 [==============================] - 6s 17ms/step - loss: 1.8443 - accuracy: 0.3626\n"
     ]
    }
   ],
   "source": [
    "#h1=model.fit(trainX, trainY, batch_size=batch, epochs=epochS)\n",
    "#h2=model.fit(trainX, trainY, batch_size=batch, epochs=epochS)\n",
    "h3=model.fit(trainX, trainY, batch_size=batch, epochs=epochS)"
   ]
  },
  {
   "cell_type": "markdown",
   "metadata": {},
   "source": [
    "**Ad 4**"
   ]
  },
  {
   "cell_type": "code",
   "execution_count": 21,
   "metadata": {},
   "outputs": [
    {
     "name": "stdout",
     "output_type": "stream",
     "text": [
      "313/313 [==============================] - 2s 5ms/step - loss: 1.8308 - accuracy: 0.3684\n"
     ]
    }
   ],
   "source": [
    "loss, accuracy = model.evaluate(testX, testY)"
   ]
  },
  {
   "cell_type": "markdown",
   "metadata": {},
   "source": [
    "**Ad 5**"
   ]
  },
  {
   "cell_type": "code",
   "execution_count": 22,
   "metadata": {},
   "outputs": [],
   "source": [
    "predictions=model.predict(testX)"
   ]
  },
  {
   "cell_type": "code",
   "execution_count": 23,
   "metadata": {},
   "outputs": [
    {
     "data": {
      "text/plain": [
       "(10000, 10)"
      ]
     },
     "execution_count": 23,
     "metadata": {},
     "output_type": "execute_result"
    }
   ],
   "source": [
    "predictions.shape"
   ]
  },
  {
   "cell_type": "code",
   "execution_count": 24,
   "metadata": {},
   "outputs": [
    {
     "data": {
      "text/plain": [
       "array([0.18485399, 0.13187458, 0.03613932, 0.02632575, 0.03278322,\n",
       "       0.02991334, 0.00920847, 0.02804261, 0.26997375, 0.25088498],\n",
       "      dtype=float32)"
      ]
     },
     "execution_count": 24,
     "metadata": {},
     "output_type": "execute_result"
    }
   ],
   "source": [
    "predictions[90]"
   ]
  },
  {
   "cell_type": "code",
   "execution_count": 26,
   "metadata": {},
   "outputs": [
    {
     "name": "stdout",
     "output_type": "stream",
     "text": [
      "              precision    recall  f1-score   support\n",
      "\n",
      "    airplane       0.50      0.38      0.43      1000\n",
      "  automobile       0.38      0.45      0.41      1000\n",
      "        bird       0.27      0.23      0.25      1000\n",
      "         cat       0.28      0.19      0.23      1000\n",
      "        deer       0.43      0.15      0.22      1000\n",
      "         dog       0.30      0.41      0.35      1000\n",
      "        frog       0.35      0.54      0.42      1000\n",
      "       horse       0.40      0.39      0.39      1000\n",
      "        ship       0.42      0.49      0.45      1000\n",
      "       truck       0.40      0.46      0.43      1000\n",
      "\n",
      "    accuracy                           0.37     10000\n",
      "   macro avg       0.37      0.37      0.36     10000\n",
      "weighted avg       0.37      0.37      0.36     10000\n",
      "\n"
     ]
    }
   ],
   "source": [
    "from sklearn.metrics import classification_report\n",
    "print(classification_report(testY.argmax(axis=1), predictions.argmax(axis=1), target_names=nazwy))"
   ]
  },
  {
   "cell_type": "code",
   "execution_count": 25,
   "metadata": {},
   "outputs": [],
   "source": [
    "import matplotlib.pyplot as plt\n",
    "#import matplotlib\n",
    "#matplotlib.use(\"PDF\") #\"AGG\"=png, \"PS\""
   ]
  },
  {
   "cell_type": "code",
   "execution_count": 26,
   "metadata": {},
   "outputs": [
    {
     "data": {
      "image/png": "[encoded data removed]",
      "text/plain": [
       "<Figure size 432x288 with 1 Axes>"
      ]
     },
     "metadata": {
      "needs_background": "light"
     },
     "output_type": "display_data"
    }
   ],
   "source": [
    "N = np.arange(0, epochS)\n",
    "title=\"CIFAR-10: uczenie\"\n",
    "plt.figure()\n",
    "plt.plot(N, h3.history[\"loss\"], label=\"train_loss\")\n",
    "plt.plot(N, h3.history[\"accuracy\"], label=\"train_acc\")\n",
    "plt.title(title)\n",
    "plt.xlabel(\"Epoch #\")\n",
    "plt.ylabel(\"Loss/Accuracy\")\n",
    "plt.legend()\n",
    "#plt.savefig(\"plik\")\n",
    "plt.show()"
   ]
  },
  {
   "cell_type": "code",
   "execution_count": null,
   "metadata": {},
   "outputs": [],
   "source": []
  }
 ],
 "metadata": {
  "kernelspec": {
   "display_name": "Python 3",
   "language": "python",
   "name": "python3"
  },
  "language_info": {
   "codemirror_mode": {
    "name": "ipython",
    "version": 3
   },
   "file_extension": ".py",
   "mimetype": "text/x-python",
   "name": "python",
   "nbconvert_exporter": "python",
   "pygments_lexer": "ipython3",
   "version": "3.9.9"
  }
 },
 "nbformat": 4,
 "nbformat_minor": 4
}
