{
 "cells": [
  {
   "cell_type": "code",
   "execution_count": 1,
   "id": "bfcc9996",
   "metadata": {},
   "outputs": [
    {
     "name": "stdout",
     "output_type": "stream",
     "text": [
      "3.9.9 (tags/v3.9.9:ccb0e6a, Nov 15 2021, 18:08:50) [MSC v.1929 64 bit (AMD64)]\n"
     ]
    },
    {
     "data": {
      "text/plain": [
       "['D:\\\\data science\\\\Deep Learning\\\\lab\\\\0\\\\2021_22\\\\Lab1\\\\1. konfig',\n",
       " 'C:\\\\Program Files\\\\Python39\\\\python39.zip',\n",
       " 'C:\\\\Program Files\\\\Python39\\\\DLLs',\n",
       " 'C:\\\\Program Files\\\\Python39\\\\lib',\n",
       " 'C:\\\\Program Files\\\\Python39',\n",
       " '',\n",
       " 'C:\\\\Users\\\\user\\\\AppData\\\\Roaming\\\\Python\\\\Python39\\\\site-packages',\n",
       " 'C:\\\\Program Files\\\\Python39\\\\lib\\\\site-packages',\n",
       " 'C:\\\\Program Files\\\\Python39\\\\lib\\\\site-packages\\\\win32',\n",
       " 'C:\\\\Program Files\\\\Python39\\\\lib\\\\site-packages\\\\win32\\\\lib',\n",
       " 'C:\\\\Program Files\\\\Python39\\\\lib\\\\site-packages\\\\Pythonwin',\n",
       " 'C:\\\\Program Files\\\\Python39\\\\lib\\\\site-packages\\\\IPython\\\\extensions',\n",
       " 'C:\\\\Users\\\\user\\\\.ipython']"
      ]
     },
     "execution_count": 1,
     "metadata": {},
     "output_type": "execute_result"
    }
   ],
   "source": [
    "import sys\n",
    "print(sys.version)\n",
    "sys.path"
   ]
  },
  {
   "cell_type": "code",
   "execution_count": 2,
   "id": "d6432ed2",
   "metadata": {},
   "outputs": [
    {
     "name": "stdout",
     "output_type": "stream",
     "text": [
      "pip 21.3.1 from C:\\Users\\user\\AppData\\Roaming\\Python\\Python39\\site-packages\\pip (python 3.9)\n",
      "\n"
     ]
    }
   ],
   "source": [
    "!pip3 --version"
   ]
  },
  {
   "cell_type": "code",
   "execution_count": 3,
   "id": "8569a0ed",
   "metadata": {},
   "outputs": [
    {
     "name": "stdout",
     "output_type": "stream",
     "text": [
      "virtualenv 20.10.0 from C:\\Program Files\\Python39\\lib\\site-packages\\virtualenv\\__init__.py\n"
     ]
    }
   ],
   "source": [
    "!virtualenv --version"
   ]
  },
  {
   "cell_type": "code",
   "execution_count": 4,
   "id": "84f8c538",
   "metadata": {},
   "outputs": [
    {
     "name": "stdout",
     "output_type": "stream",
     "text": [
      "Package                           Version\n",
      "--------------------------------- ------------\n",
      "absl-py                           0.12.0\n",
      "aiofiles                          0.7.0\n",
      "albumentations                    1.1.0\n",
      "anyio                             3.4.0\n",
      "argcomplete                       1.12.3\n",
      "argon2-cffi                       21.1.0\n",
      "astunparse                        1.6.3\n",
      "attrs                             21.2.0\n",
      "backcall                          0.2.0\n",
      "backports.entry-points-selectable 1.1.1\n",
      "bleach                            4.1.0\n",
      "boto3                             1.20.12\n",
      "botocore                          1.23.12\n",
      "cachetools                        4.2.4\n",
      "certifi                           2021.10.8\n",
      "cffi                              1.15.0\n",
      "charset-normalizer                2.0.7\n",
      "colorama                          0.4.4\n",
      "cv                                1.0.0\n",
      "cycler                            0.11.0\n",
      "debugpy                           1.5.1\n",
      "decorator                         5.1.0\n",
      "defusedxml                        0.7.1\n",
      "Deprecated                        1.2.13\n",
      "dill                              0.3.4\n",
      "distlib                           0.3.3\n",
      "dnspython                         2.1.0\n",
      "entrypoints                       0.3\n",
      "eventlet                          0.33.0\n",
      "fiftyone                          0.14.1\n",
      "fiftyone-brain                    0.7.1\n",
      "fiftyone-db                       0.3.0\n",
      "fiftyone-desktop                  0.19.0\n",
      "filelock                          3.4.0\n",
      "flatbuffers                       2.0\n",
      "fonttools                         4.28.1\n",
      "future                            0.18.2\n",
      "gast                              0.4.0\n",
      "glob2                             0.7\n",
      "google-auth                       2.3.3\n",
      "google-auth-oauthlib              0.4.6\n",
      "google-pasta                      0.2.0\n",
      "googleapis-common-protos          1.53.0\n",
      "greenlet                          1.1.2\n",
      "grpcio                            1.42.0\n",
      "h11                               0.12.0\n",
      "h5py                              3.6.0\n",
      "httpcore                          0.14.3\n",
      "httpx                             0.21.1\n",
      "idna                              3.3\n",
      "imageio                           2.11.1\n",
      "importlib-metadata                4.8.2\n",
      "ipykernel                         6.5.1\n",
      "ipython                           7.29.0\n",
      "ipython-genutils                  0.2.0\n",
      "ipywidgets                        7.6.5\n",
      "jedi                              0.18.1\n",
      "Jinja2                            3.0.3\n",
      "jmespath                          0.10.0\n",
      "joblib                            1.1.0\n",
      "jsonschema                        4.2.1\n",
      "jupyter                           1.0.0\n",
      "jupyter-client                    7.0.6\n",
      "jupyter-console                   6.4.0\n",
      "jupyter-core                      4.9.1\n",
      "jupyterlab-pygments               0.1.2\n",
      "jupyterlab-widgets                1.0.2\n",
      "kaleido                           0.2.1\n",
      "keras                             2.7.0\n",
      "Keras-Preprocessing               1.1.2\n",
      "kiwisolver                        1.3.2\n",
      "libclang                          12.0.0\n",
      "Markdown                          3.3.6\n",
      "MarkupSafe                        2.0.1\n",
      "matplotlib                        3.5.0\n",
      "matplotlib-inline                 0.1.3\n",
      "mistune                           0.8.4\n",
      "mlxtend                           0.19.0\n",
      "mongoengine                       0.20.0\n",
      "motor                             2.5.1\n",
      "nbclient                          0.5.9\n",
      "nbconvert                         6.3.0\n",
      "nbformat                          5.1.3\n",
      "nbopen                            0.6\n",
      "ndjson                            0.3.1\n",
      "nest-asyncio                      1.5.1\n",
      "networkx                          2.6.3\n",
      "notebook                          6.4.6\n",
      "numpy                             1.21.4\n",
      "oauthlib                          3.1.1\n",
      "opencv-python                     4.5.4.60\n",
      "opencv-python-headless            4.5.4.60\n",
      "opt-einsum                        3.3.0\n",
      "packaging                         21.3\n",
      "pandas                            1.3.4\n",
      "pandocfilters                     1.5.0\n",
      "parso                             0.8.2\n",
      "patool                            1.12\n",
      "pickleshare                       0.7.5\n",
      "Pillow                            8.4.0\n",
      "pip                               21.3.1\n",
      "platformdirs                      2.4.0\n",
      "plotly                            4.14.3\n",
      "pprintpp                          0.4.0\n",
      "prometheus-client                 0.12.0\n",
      "promise                           2.3\n",
      "prompt-toolkit                    3.0.22\n",
      "protobuf                          3.19.1\n",
      "psutil                            5.8.0\n",
      "py3nvml                           0.2.6\n",
      "pyasn1                            0.4.8\n",
      "pyasn1-modules                    0.2.8\n",
      "pycparser                         2.21\n",
      "Pygments                          2.10.0\n",
      "pymongo                           3.12.1\n",
      "pyparsing                         3.0.6\n",
      "pyrsistent                        0.18.0\n",
      "python-dateutil                   2.8.2\n",
      "pytz                              2021.3\n",
      "pytz-deprecation-shim             0.1.0.post0\n",
      "PyWavelets                        1.2.0\n",
      "pywin32                           302\n",
      "pywinpty                          1.1.6\n",
      "PyYAML                            6.0\n",
      "pyzmq                             22.3.0\n",
      "qtconsole                         5.2.0\n",
      "QtPy                              1.11.2\n",
      "qudida                            0.0.4\n",
      "requests                          2.26.0\n",
      "requests-oauthlib                 1.3.0\n",
      "retrying                          1.3.3\n",
      "rfc3986                           1.5.0\n",
      "rsa                               4.7.2\n",
      "s3transfer                        0.5.0\n",
      "scikit-image                      0.18.3\n",
      "scikit-learn                      1.0.1\n",
      "scipy                             1.7.2\n",
      "seaborn                           0.11.2\n",
      "Send2Trash                        1.8.0\n",
      "setuptools                        58.1.0\n",
      "setuptools-scm                    6.3.2\n",
      "six                               1.16.0\n",
      "sniffio                           1.2.0\n",
      "sortedcontainers                  2.4.0\n",
      "tabulate                          0.8.9\n",
      "tensorboard                       2.7.0\n",
      "tensorboard-data-server           0.6.1\n",
      "tensorboard-plugin-wit            1.8.0\n",
      "tensorflow-datasets               4.4.0\n",
      "tensorflow-estimator              2.7.0\n",
      "tensorflow-gpu                    2.7.0\n",
      "tensorflow-hub                    0.12.0\n",
      "tensorflow-io-gcs-filesystem      0.22.0\n",
      "tensorflow-metadata               1.4.0\n",
      "termcolor                         1.1.0\n",
      "terminado                         0.12.1\n",
      "testpath                          0.5.0\n",
      "threadpoolctl                     3.0.0\n",
      "tifffile                          2021.11.2\n",
      "tomli                             1.2.2\n",
      "torch                             1.10.0+cu113\n",
      "torchaudio                        0.10.0+cu113\n",
      "torchvision                       0.11.1+cu113\n",
      "tornado                           6.1\n",
      "tqdm                              4.62.3\n",
      "traitlets                         5.1.1\n",
      "typing_extensions                 4.0.0\n",
      "tzdata                            2021.5\n",
      "tzlocal                           4.1\n",
      "universal-analytics-python3       1.1.1\n",
      "urllib3                           1.26.7\n",
      "virtualenv                        20.10.0\n",
      "voxel51-eta                       0.6.1\n",
      "wcwidth                           0.2.5\n",
      "webencodings                      0.5.1\n",
      "Werkzeug                          2.0.2\n",
      "wheel                             0.37.0\n",
      "widgetsnbextension                3.5.2\n",
      "wrapt                             1.13.3\n",
      "xmltodict                         0.12.0\n",
      "zipp                              3.6.0\n"
     ]
    }
   ],
   "source": [
    "!pip3 list"
   ]
  },
  {
   "cell_type": "code",
   "execution_count": 5,
   "id": "bc0b324a",
   "metadata": {},
   "outputs": [
    {
     "name": "stdout",
     "output_type": "stream",
     "text": [
      "Name: numpy\n",
      "Version: 1.21.4\n",
      "Summary: NumPy is the fundamental package for array computing with Python.\n",
      "Home-page: https://www.numpy.org\n",
      "Author: Travis E. Oliphant et al.\n",
      "Author-email: \n",
      "License: BSD\n",
      "Location: c:\\users\\user\\appdata\\roaming\\python\\python39\\site-packages\n",
      "Requires: \n",
      "Required-by: albumentations, fiftyone, fiftyone-brain, h5py, imageio, Keras-Preprocessing, matplotlib, mlxtend, opencv-python, opencv-python-headless, opt-einsum, pandas, PyWavelets, qudida, scikit-image, scikit-learn, scipy, seaborn, tensorboard, tensorflow-datasets, tensorflow-gpu, tensorflow-hub, tifffile, torchvision, voxel51-eta\n"
     ]
    }
   ],
   "source": [
    "!pip show numpy"
   ]
  },
  {
   "cell_type": "code",
   "execution_count": 6,
   "id": "b0e4656f",
   "metadata": {},
   "outputs": [
    {
     "name": "stdout",
     "output_type": "stream",
     "text": [
      "2.7.0\n"
     ]
    }
   ],
   "source": [
    "import tensorflow as tf\n",
    "print(tf.__version__)"
   ]
  },
  {
   "cell_type": "code",
   "execution_count": 7,
   "id": "1ec5f262",
   "metadata": {},
   "outputs": [
    {
     "name": "stderr",
     "output_type": "stream",
     "text": [
      "WARNING: Package(s) not found: tensorflow\n"
     ]
    }
   ],
   "source": [
    "!pip show tensorflow"
   ]
  },
  {
   "cell_type": "code",
   "execution_count": 8,
   "id": "52405891",
   "metadata": {},
   "outputs": [
    {
     "name": "stdout",
     "output_type": "stream",
     "text": [
      "Name: tensorflow-gpu\n",
      "Version: 2.7.0\n",
      "Summary: TensorFlow is an open source machine learning framework for everyone.\n",
      "Home-page: https://www.tensorflow.org/\n",
      "Author: Google Inc.\n",
      "Author-email: packages@tensorflow.org\n",
      "License: Apache 2.0\n",
      "Location: c:\\program files\\python39\\lib\\site-packages\n",
      "Requires: absl-py, astunparse, flatbuffers, gast, google-pasta, grpcio, h5py, keras, keras-preprocessing, libclang, numpy, opt-einsum, protobuf, six, tensorboard, tensorflow-estimator, tensorflow-io-gcs-filesystem, termcolor, typing-extensions, wheel, wrapt\n",
      "Required-by: \n"
     ]
    }
   ],
   "source": [
    "!pip show tensorflow-gpu"
   ]
  },
  {
   "cell_type": "code",
   "execution_count": 9,
   "id": "e9956eef",
   "metadata": {},
   "outputs": [
    {
     "data": {
      "text/plain": [
       "True"
      ]
     },
     "execution_count": 9,
     "metadata": {},
     "output_type": "execute_result"
    }
   ],
   "source": [
    "tf.executing_eagerly()"
   ]
  },
  {
   "cell_type": "code",
   "execution_count": 10,
   "id": "ecb1f699",
   "metadata": {},
   "outputs": [
    {
     "data": {
      "text/plain": [
       "[PhysicalDevice(name='/physical_device:CPU:0', device_type='CPU'),\n",
       " PhysicalDevice(name='/physical_device:GPU:0', device_type='GPU')]"
      ]
     },
     "execution_count": 10,
     "metadata": {},
     "output_type": "execute_result"
    }
   ],
   "source": [
    "tf.config.list_physical_devices()"
   ]
  },
  {
   "cell_type": "code",
   "execution_count": 11,
   "id": "f4f884a0",
   "metadata": {},
   "outputs": [
    {
     "name": "stdout",
     "output_type": "stream",
     "text": [
      "[name: \"/device:CPU:0\"\n",
      "device_type: \"CPU\"\n",
      "memory_limit: 268435456\n",
      "locality {\n",
      "}\n",
      "incarnation: 1082197433708882379\n",
      "xla_global_id: -1\n",
      ", name: \"/device:GPU:0\"\n",
      "device_type: \"GPU\"\n",
      "memory_limit: 1429985691\n",
      "locality {\n",
      "  bus_id: 1\n",
      "  links {\n",
      "  }\n",
      "}\n",
      "incarnation: 9910625808554388693\n",
      "physical_device_desc: \"device: 0, name: NVIDIA GeForce MX130, pci bus id: 0000:02:00.0, compute capability: 5.0\"\n",
      "xla_global_id: 416903419\n",
      "]\n"
     ]
    }
   ],
   "source": [
    "from tensorflow.python.client import device_lib\n",
    "print(device_lib.list_local_devices())"
   ]
  },
  {
   "cell_type": "code",
   "execution_count": 12,
   "id": "3b0c22eb",
   "metadata": {},
   "outputs": [
    {
     "name": "stdout",
     "output_type": "stream",
     "text": [
      "Time (s) to convolve 32x7x7x3 filter over random 100x100x100x3 images (batch x height x width x channel). Sum of ten runs.\n",
      "CPU (s):\n",
      "2.440136100000018\n",
      "GPU (s):\n",
      "0.027198300000009112\n",
      "GPU speedup over CPU: 89x\n"
     ]
    }
   ],
   "source": [
    "#test GPU vs. CPU\n",
    "import tensorflow as tf\n",
    "import timeit\n",
    "\n",
    "device_name = tf.test.gpu_device_name()\n",
    "if device_name != '/device:GPU:0':\n",
    "    print('\\n\\nThis error most likely means that this notebook is not '\n",
    "          'configured to use a GPU.  Change this in Notebook Settings via the '\n",
    "          'command palette (cmd/ctrl-shift-P) or the Edit menu.\\n\\n')\n",
    "    raise SystemError('GPU device not found')\n",
    "\n",
    "def cpu():\n",
    "    with tf.device('/cpu:0'):\n",
    "        random_image_cpu = tf.random.normal((100, 100, 100, 3))\n",
    "        net_cpu = tf.keras.layers.Conv2D(32, 7)(random_image_cpu)\n",
    "    return tf.math.reduce_sum(net_cpu)\n",
    "\n",
    "def gpu():\n",
    "    with tf.device('/device:GPU:0'):\n",
    "        random_image_gpu = tf.random.normal((100, 100, 100, 3))\n",
    "        net_gpu = tf.keras.layers.Conv2D(32, 7)(random_image_gpu)\n",
    "    return tf.math.reduce_sum(net_gpu)\n",
    "  \n",
    "# warm up\n",
    "cpu()\n",
    "gpu()\n",
    "\n",
    "# Run the op several times.\n",
    "print('Time (s) to convolve 32x7x7x3 filter over random 100x100x100x3 images '\n",
    "      '(batch x height x width x channel). Sum of ten runs.')\n",
    "print('CPU (s):')\n",
    "cpu_time = timeit.timeit('cpu()', number=10, setup=\"from __main__ import cpu\")\n",
    "print(cpu_time)\n",
    "print('GPU (s):')\n",
    "gpu_time = timeit.timeit('gpu()', number=10, setup=\"from __main__ import gpu\")\n",
    "print(gpu_time)\n",
    "print('GPU speedup over CPU: {}x'.format(int(cpu_time/gpu_time)))"
   ]
  },
  {
   "cell_type": "code",
   "execution_count": 13,
   "id": "8b7b09b8",
   "metadata": {},
   "outputs": [
    {
     "name": "stdout",
     "output_type": "stream",
     "text": [
      "Sat Nov 27 15:21:13 2021       \n",
      "+-----------------------------------------------------------------------------+\n",
      "| NVIDIA-SMI 496.76       Driver Version: 496.76       CUDA Version: 11.5     |\n",
      "|-------------------------------+----------------------+----------------------+\n",
      "| GPU  Name            TCC/WDDM | Bus-Id        Disp.A | Volatile Uncorr. ECC |\n",
      "| Fan  Temp  Perf  Pwr:Usage/Cap|         Memory-Usage | GPU-Util  Compute M. |\n",
      "|                               |                      |               MIG M. |\n",
      "|===============================+======================+======================|\n",
      "|   0  NVIDIA GeForce ... WDDM  | 00000000:02:00.0 Off |                  N/A |\n",
      "| N/A    0C    P8    N/A /  N/A |   1712MiB /  2048MiB |      0%      Default |\n",
      "|                               |                      |                  N/A |\n",
      "+-------------------------------+----------------------+----------------------+\n",
      "                                                                               \n",
      "+-----------------------------------------------------------------------------+\n",
      "| Processes:                                                                  |\n",
      "|  GPU   GI   CI        PID   Type   Process name                  GPU Memory |\n",
      "|        ID   ID                                                   Usage      |\n",
      "|=============================================================================|\n",
      "|    0   N/A  N/A      2520      C   ...Files\\Python39\\python.exe    N/A      |\n",
      "|    0   N/A  N/A     18972      C   ...Files\\Python39\\python.exe    N/A      |\n",
      "+-----------------------------------------------------------------------------+\n"
     ]
    }
   ],
   "source": [
    "!nvidia-smi"
   ]
  },
  {
   "cell_type": "code",
   "execution_count": 14,
   "id": "9234c88d",
   "metadata": {},
   "outputs": [
    {
     "name": "stdout",
     "output_type": "stream",
     "text": [
      "nvcc: NVIDIA (R) Cuda compiler driver\n",
      "Copyright (c) 2005-2021 NVIDIA Corporation\n",
      "Built on Sun_Feb_14_22:08:44_Pacific_Standard_Time_2021\n",
      "Cuda compilation tools, release 11.2, V11.2.152\n",
      "Build cuda_11.2.r11.2/compiler.29618528_0\n"
     ]
    }
   ],
   "source": [
    "!nvcc --version"
   ]
  },
  {
   "cell_type": "code",
   "execution_count": 19,
   "id": "189bce22",
   "metadata": {},
   "outputs": [
    {
     "name": "stdout",
     "output_type": "stream",
     "text": [
      "Python version :  3.9.9 (tags/v3.9.9:ccb0e6a, Nov 15 2021, 18:08:50) [MSC v.1929 64 bit (AMD64)]\n",
      "TF version:  2.7.0\n",
      "Keras version :  2.7.0\n",
      "Hub version :  0.12.0\n",
      "TF datasets version :  4.4.0\n",
      "GPUs available :  1\n",
      "cuDNN version :  64_8\n",
      "Cuda version :  64_112\n"
     ]
    }
   ],
   "source": [
    "from tensorflow import keras\n",
    "import tensorflow_hub as hub\n",
    "import tensorflow_datasets as tfds\n",
    "import tensorflow.python.platform.build_info as build\n",
    "print(\"Python version : \", sys.version)\n",
    "print(\"TF version: \", tf.__version__)\n",
    "print(\"Keras version : \", keras.__version__)\n",
    "#!pip show keras\n",
    "print(\"Hub version : \", hub.__version__)\n",
    "print(\"TF datasets version : \", tfds.__version__)\n",
    "print(\"GPUs available : \", len(tf.config.experimental.list_physical_devices('GPU')))\n",
    "print(\"cuDNN version : \", build.build_info['cudnn_version'])\n",
    "print(\"Cuda version : \", build.build_info['cuda_version'])"
   ]
  },
  {
   "cell_type": "code",
   "execution_count": 1,
   "id": "38e5887e",
   "metadata": {},
   "outputs": [
    {
     "name": "stdout",
     "output_type": "stream",
     "text": [
      "Torch version :  1.10.0+cu113\n"
     ]
    }
   ],
   "source": [
    "import torch\n",
    "print(\"Torch version : \", torch.__version__)"
   ]
  },
  {
   "cell_type": "code",
   "execution_count": 2,
   "id": "09481b34",
   "metadata": {},
   "outputs": [
    {
     "name": "stdout",
     "output_type": "stream",
     "text": [
      "Selected Jupyter core packages...\n",
      "IPython          : 7.29.0\n",
      "ipykernel        : 6.5.1\n",
      "ipywidgets       : 7.6.5\n",
      "jupyter_client   : 7.0.6\n",
      "jupyter_core     : 4.9.1\n",
      "jupyter_server   : not installed\n",
      "jupyterlab       : not installed\n",
      "nbclient         : 0.5.9\n",
      "nbconvert        : 6.3.0\n",
      "nbformat         : 5.1.3\n",
      "notebook         : 6.4.6\n",
      "qtconsole        : 5.2.0\n",
      "traitlets        : 5.1.1\n"
     ]
    }
   ],
   "source": [
    "!jupyter --version"
   ]
  },
  {
   "cell_type": "code",
   "execution_count": 4,
   "id": "55e00f3b",
   "metadata": {},
   "outputs": [
    {
     "name": "stdout",
     "output_type": "stream",
     "text": [
      "11.3\n"
     ]
    },
    {
     "data": {
      "text/plain": [
       "True"
      ]
     },
     "execution_count": 4,
     "metadata": {},
     "output_type": "execute_result"
    }
   ],
   "source": [
    "import torch\n",
    "print(torch.version.cuda)\n",
    "torch.cuda.is_available()"
   ]
  },
  {
   "cell_type": "code",
   "execution_count": null,
   "id": "fcffd4fa",
   "metadata": {},
   "outputs": [],
   "source": []
  }
 ],
 "metadata": {
  "kernelspec": {
   "display_name": "Python 3",
   "language": "python",
   "name": "python3"
  },
  "language_info": {
   "codemirror_mode": {
    "name": "ipython",
    "version": 3
   },
   "file_extension": ".py",
   "mimetype": "text/x-python",
   "name": "python",
   "nbconvert_exporter": "python",
   "pygments_lexer": "ipython3",
   "version": "3.9.9"
  }
 },
 "nbformat": 4,
 "nbformat_minor": 5
}
