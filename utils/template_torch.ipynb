{
 "cells": [
  {
   "cell_type": "code",
   "execution_count": 22,
   "metadata": {},
   "outputs": [],
   "source": [
    "%matplotlib inline"
   ]
  },
  {
   "cell_type": "markdown",
   "metadata": {},
   "source": [
    "Working with data\n",
    "-----------------\n",
    "PyTorch has two primitives to work with data:<br>\n",
    "torch.utils.data.DataLoader: wraps an iterable around the Dataset<br>\n",
    "torch.utils.data.Dataset: stores the samples and their corresponding labels\n",
    "\n",
    "PyTorch offers domain-specific libraries such as TorchText, TorchVision, and TorchAudio,\n",
    "that provide a number of pre-loaded datasets:<br>\n",
    "Image Datasets: pytorch.org/vision/stable/datasets,<br>\n",
    "Text Datasets: pytorch.org/text/stable/datasets,<br>\n",
    "Audio Datasets: pytorch.org/audio/stable/datasets<br>\n",
    "\n",
    "they subclass torch.utils.data.Dataset and implement functions specific to the particular data\n",
    "\n",
    "torchvision.datasets module<br>\n",
    "-contains Dataset objects for many real-world vision data like FashionMNIST, CIFAR, COCO, etc.<br>"
   ]
  },
  {
   "cell_type": "code",
   "execution_count": 9,
   "metadata": {},
   "outputs": [],
   "source": [
    "import torch\n",
    "from torch.utils.data import DataLoader, Dataset\n",
    "from torchvision import datasets"
   ]
  },
  {
   "cell_type": "code",
   "execution_count": 10,
   "metadata": {},
   "outputs": [],
   "source": [
    "from torch import nn\n",
    "from torchvision.transforms import ToTensor, Lambda, Compose\n",
    "import matplotlib.pyplot as plt"
   ]
  },
  {
   "cell_type": "markdown",
   "metadata": {},
   "source": [
    "#### Transforms\n",
    "- are used to perform some manipulation of the data and make it suitable for training\n",
    "- all TorchVision datasets have two parameters<br>\n",
    "transform: to modify the samples,<br>\n",
    "target_transform: to modify the labels\n",
    "- the `torchvision.transforms` module offers several commonly-used transforms out of the box\n",
    "\n",
    "The FashionMNIST features are in PIL Image format, and the labels are integers.\n",
    "For training, we need the features as normalized tensors, and the labels as one-hot encoded tensors.\n",
    "\n",
    "ToTensor(): converts a PIL image or NumPy ``ndarray`` into a ``FloatTensor`` and scales\n",
    "the image's pixel intensity values in the range [0., 1.]\n",
    "\n",
    "user-defined lambda function:<br>\n",
    "- here, we define a function to turn the integer into a one-hot encoded tensor\n",
    "- it first creates a zero tensor of size 10 (the number of labels in our dataset) and calls\n",
    "scatter_ which assigns a ``value=1`` on the index as given by the label ``y``"
   ]
  },
  {
   "cell_type": "code",
   "execution_count": 24,
   "metadata": {},
   "outputs": [],
   "source": [
    "#one-hot\n",
    "#target_transform = Lambda(lambda y: torch.zeros(\n",
    "#    10, dtype=torch.float).scatter_(dim=0, index=torch.tensor(y), value=1))"
   ]
  },
  {
   "cell_type": "code",
   "execution_count": 11,
   "metadata": {},
   "outputs": [],
   "source": [
    "# Download training data from open datasets.\n",
    "training_data = datasets.FashionMNIST(root=\"data\", train=True, download=True, transform=ToTensor(),)\n",
    "\n",
    "# Download test data from open datasets.\n",
    "test_data = datasets.FashionMNIST(root=\"data\", train=False, download=True, transform=ToTensor(),)"
   ]
  },
  {
   "cell_type": "markdown",
   "metadata": {},
   "source": [
    "We pass the Dataset as an argument to DataLoader - this wraps an iterable over our dataset, and supports automatic batching, sampling, shuffling and multiprocess data loading.<br>"
   ]
  },
  {
   "cell_type": "markdown",
   "metadata": {},
   "source": [
    "#### Iterating the Dataset\n",
    "\n",
    "iteration/indexing: a list training_data[index]"
   ]
  },
  {
   "cell_type": "code",
   "execution_count": 12,
   "metadata": {},
   "outputs": [
    {
     "data": {
      "image/png": "[encoded data removed]",
      "text/plain": [
       "<Figure size 576x576 with 9 Axes>"
      ]
     },
     "metadata": {
      "needs_background": "light"
     },
     "output_type": "display_data"
    }
   ],
   "source": [
    "labels_map = {\n",
    "    0: \"T-Shirt\",\n",
    "    1: \"Trouser\",\n",
    "    2: \"Pullover\",\n",
    "    3: \"Dress\",\n",
    "    4: \"Coat\",\n",
    "    5: \"Sandal\",\n",
    "    6: \"Shirt\",\n",
    "    7: \"Sneaker\",\n",
    "    8: \"Bag\",\n",
    "    9: \"Ankle Boot\",\n",
    "}\n",
    "figure = plt.figure(figsize=(8, 8))\n",
    "cols, rows = 3, 3\n",
    "for i in range(1, cols * rows + 1):\n",
    "    sample_idx = torch.randint(len(training_data), size=(1,)).item()\n",
    "    img, label = training_data[sample_idx]\n",
    "    figure.add_subplot(rows, cols, i)\n",
    "    plt.title(labels_map[label])\n",
    "    plt.axis(\"off\")\n",
    "    plt.imshow(img.squeeze(), cmap=\"gray\")\n",
    "plt.show()"
   ]
  },
  {
   "cell_type": "markdown",
   "metadata": {},
   "source": [
    "||||||||||||||||||||||||||||||||||||||||||||||||||||||||||||||||||||||||||||||||||||||||||||"
   ]
  },
  {
   "cell_type": "markdown",
   "metadata": {},
   "source": [
    "Creating a Custom Dataset for your files\n",
    "---------------------------------------------------\n",
    "A custom Dataset class must implement three functions:.<br>\n",
    "``__init__``: is run once when instantiating the Dataset object. We initialize\n",
    "the directory containing the images, the annotations file, and both transforms.\n",
    "\n",
    "``__len__``: returns the number of samples in our dataset\n",
    "\n",
    "``__getitem__``: loads and returns a sample from the dataset at the given index ``idx``.<br>\n",
    "Based on the index, it identifies the image's location on disk, converts that to a tensor using ``read_image``, retrieves the corresponding label from the csv data in ``self.img_labels``, calls the transform functions on them (if applicable), and returns the tensor image and corresponding label in a tuple.\n",
    "\n",
    "Here: the FashionMNIST images are stored in a directory ``img_dir``, and their labels are stored separately in a CSV file ``annotations_file``."
   ]
  },
  {
   "cell_type": "code",
   "execution_count": 13,
   "metadata": {},
   "outputs": [],
   "source": [
    "import os\n",
    "import pandas as pd\n",
    "from torchvision.io import read_image\n",
    "\n",
    "class CustomImageDataset(Dataset):\n",
    "    def __init__(self, annotations_file, img_dir, transform=None, target_transform=None):\n",
    "        #self.img_labels = pd.read_csv(annotations_file)\n",
    "        self.img_labels = pd.read_csv(annotations_file, names=['file_name', 'label'])\n",
    "        self.img_dir = img_dir\n",
    "        self.transform = transform\n",
    "        self.target_transform = target_transform\n",
    "\n",
    "    def __len__(self):\n",
    "        return len(self.img_labels)\n",
    "\n",
    "    def __getitem__(self, idx):\n",
    "        img_path = os.path.join(self.img_dir, self.img_labels.iloc[idx, 0])\n",
    "        image = read_image(img_path)\n",
    "        label = self.img_labels.iloc[idx, 1]\n",
    "        if self.transform:\n",
    "            image = self.transform(image)\n",
    "        if self.target_transform:\n",
    "            label = self.target_transform(label)\n",
    "        return image, label"
   ]
  },
  {
   "cell_type": "markdown",
   "metadata": {},
   "source": [
    "Preparing your data for training with DataLoaders\n",
    "-------------------------------------------------\n",
    "The ``Dataset`` retrieves our dataset's features and labels one sample at a time.<br>\n",
    "While training a model, we typically want to pass samples in \"minibatches\", reshuffle the data at every epoch to reduce model overfitting, and use Python's ``multiprocessing`` to speed up data retrieval.\n",
    "\n",
    "``DataLoader`` is an iterable that abstracts this complexity for us in an easy API."
   ]
  },
  {
   "cell_type": "code",
   "execution_count": 14,
   "metadata": {},
   "outputs": [],
   "source": [
    "from torch.utils.data import DataLoader\n",
    "\n",
    "train_dataloader = DataLoader(training_data, batch_size=64, shuffle=True)\n",
    "test_dataloader = DataLoader(test_data, batch_size=64, shuffle=True)"
   ]
  },
  {
   "cell_type": "markdown",
   "metadata": {},
   "source": [
    "Iterate through the DataLoader\n",
    "--------------------------\n",
    "\n",
    "We have loaded that dataset into the ``DataLoader`` and can iterate through the dataset as needed.\n",
    "Each iteration below returns a batch of ``train_features`` and ``train_labels`` (containing ``batch_size=64`` features and labels respectively).\n",
    "Because we specified ``shuffle=True``, after we iterate over all batches the data is shuffled (for finer-grained control over\n",
    "the data loading order, take a look at `Samplers <https://pytorch.org/docs/stable/data.html#data-loading-order-and-sampler>`_).\n",
    "\n"
   ]
  },
  {
   "cell_type": "code",
   "execution_count": 15,
   "metadata": {},
   "outputs": [
    {
     "name": "stdout",
     "output_type": "stream",
     "text": [
      "Feature batch shape: torch.Size([64, 1, 28, 28])\n",
      "Labels batch shape: torch.Size([64])\n"
     ]
    },
    {
     "data": {
      "image/png": "[encoded data removed]",
      "text/plain": [
       "<Figure size 432x288 with 1 Axes>"
      ]
     },
     "metadata": {
      "needs_background": "light"
     },
     "output_type": "display_data"
    },
    {
     "name": "stdout",
     "output_type": "stream",
     "text": [
      "Label: 6\n"
     ]
    }
   ],
   "source": [
    "# Display image and label.\n",
    "train_features, train_labels = next(iter(train_dataloader))\n",
    "print(f\"Feature batch shape: {train_features.size()}\")\n",
    "print(f\"Labels batch shape: {train_labels.size()}\")\n",
    "img = train_features[0].squeeze()\n",
    "label = train_labels[0]\n",
    "plt.imshow(img, cmap=\"gray\")\n",
    "plt.show()\n",
    "print(f\"Label: {label}\")"
   ]
  },
  {
   "cell_type": "markdown",
   "metadata": {},
   "source": [
    "||||||||||||||||||||||||||||||||||||||||||||||||||||||||||||||||||||||||||||||||||||||||||||||||"
   ]
  },
  {
   "cell_type": "markdown",
   "metadata": {},
   "source": [
    "Hyperparameters\n",
    "-----------------\n",
    "\n",
    "Hyperparameters are adjustable parameters that let you control the model optimization process.\n",
    "Different hyperparameter values can impact model training and convergence rates.\n",
    "\n",
    "We define the following hyperparameters for training:\n",
    " - **Number of Epochs** - the number times to iterate over the dataset\n",
    " - **Batch Size** - the number of data samples propagated through the network before the parameters are updated\n",
    " - **Learning Rate** - how much to update models parameters at each batch/epoch. Smaller values yield slow learning speed, while large values may result in unpredictable behavior during training."
   ]
  },
  {
   "cell_type": "code",
   "execution_count": 26,
   "metadata": {},
   "outputs": [],
   "source": [
    "#learning_rate = 1e-3\n",
    "#batch_size = 64\n",
    "#epochs = 5"
   ]
  },
  {
   "cell_type": "code",
   "execution_count": 16,
   "metadata": {},
   "outputs": [
    {
     "name": "stdout",
     "output_type": "stream",
     "text": [
      "Shape of X [N, C, H, W]:  torch.Size([64, 1, 28, 28])\n",
      "Shape of y:  torch.Size([64]) torch.int64\n",
      "torch.Size([64, 1, 28, 28])\n"
     ]
    }
   ],
   "source": [
    "batch_size = 64\n",
    "# Create data loaders\n",
    "train_dataloader = DataLoader(training_data, batch_size=batch_size)\n",
    "test_dataloader = DataLoader(test_data, batch_size=batch_size)\n",
    "\n",
    "for X, y in test_dataloader:\n",
    "    print(\"Shape of X [N, C, H, W]: \", X.shape)\n",
    "    print(\"Shape of y: \", y.shape, y.dtype)\n",
    "    break\n",
    "\n",
    "print(X.size())"
   ]
  },
  {
   "cell_type": "markdown",
   "metadata": {},
   "source": [
    "Creating Models\n",
    "------------------\n",
    "To define a neural network in PyTorch, we create a class that inherits from nn.Module.<br>\n",
    "We define the layers of the network in the ``__init__`` function.<br>\n",
    "We specify how data will pass through the network in the forward function.<br>\n",
    "To accelerate operations in the neural network, we move it to the GPU if available."
   ]
  },
  {
   "cell_type": "code",
   "execution_count": 17,
   "metadata": {},
   "outputs": [
    {
     "name": "stdout",
     "output_type": "stream",
     "text": [
      "Using cuda device\n",
      "NeuralNetwork(\n",
      "  (flatten): Flatten(start_dim=1, end_dim=-1)\n",
      "  (linear_relu_stack): Sequential(\n",
      "    (0): Linear(in_features=784, out_features=512, bias=True)\n",
      "    (1): ReLU()\n",
      "    (2): Linear(in_features=512, out_features=512, bias=True)\n",
      "    (3): ReLU()\n",
      "    (4): Linear(in_features=512, out_features=10, bias=True)\n",
      "  )\n",
      ")\n"
     ]
    }
   ],
   "source": [
    "# Get cpu or gpu device for training.\n",
    "device = \"cuda\" if torch.cuda.is_available() else \"cpu\"\n",
    "print(f\"Using {device} device\")\n",
    "\n",
    "# Define model\n",
    "class NeuralNetwork(nn.Module):\n",
    "    def __init__(self):\n",
    "        super(NeuralNetwork, self).__init__()\n",
    "        self.flatten = nn.Flatten()\n",
    "\n",
    "#nn.Sequential is an ordered container of modules\n",
    "#The data is passed through all the modules in the same order as defined\n",
    "        self.linear_relu_stack = nn.Sequential(\n",
    "            nn.Linear(28*28, 512),\n",
    "            nn.ReLU(),\n",
    "            nn.Linear(512, 512),\n",
    "            nn.ReLU(),      #is applied after linear transformations to introduce nonlinearity\n",
    "            nn.Linear(512, 10)\n",
    "        )\n",
    "#The last linear layer of the neural network returns `logits` - raw values in [-\\infty, \\infty]\n",
    "#when they are passed to the `nn.Softmax` module, they got scaled to values [0, 1]\n",
    "#representing the model's predicted probabilities for each class.\n",
    "#dim parameter indicates the dimension along which the values must sum to 1.\n",
    "\n",
    "\n",
    "#Do not call model.forward() directly!\n",
    "    def forward(self, x):\n",
    "        x = self.flatten(x)\n",
    "        logits = self.linear_relu_stack(x)\n",
    "        return logits\n",
    "\n",
    "\n",
    "#we create an instance of NeuralNetwork, and move it to the device, and print its structure\n",
    "model = NeuralNetwork().to(device)\n",
    "print(model)"
   ]
  },
  {
   "cell_type": "markdown",
   "metadata": {},
   "source": [
    "#### Layers"
   ]
  },
  {
   "cell_type": "code",
   "execution_count": 36,
   "metadata": {},
   "outputs": [
    {
     "name": "stdout",
     "output_type": "stream",
     "text": [
      "torch.Size([3, 28, 28])\n",
      "torch.Size([3, 784])\n",
      "torch.Size([3, 20])\n",
      "Before ReLU: tensor([[ 0.4744, -0.0531, -0.0910,  0.4040, -0.2918,  0.0881, -0.6167, -0.2391,\n",
      "         -0.1788,  0.1536, -0.0908, -0.2957,  0.0868, -0.1355,  0.1971, -0.1443,\n",
      "          0.0940,  0.1610,  0.2328,  0.4784],\n",
      "        [ 0.8194,  0.2368,  0.2059,  0.0772, -0.2923,  0.0086, -0.8330, -0.3690,\n",
      "         -0.0980, -0.2269, -0.0968, -0.6648, -0.3732, -0.0360, -0.6289, -0.3586,\n",
      "          0.2295,  0.1855,  0.5291,  0.6245],\n",
      "        [ 0.5809, -0.0479,  0.0466,  0.2181,  0.0204,  0.3441, -0.4724,  0.0562,\n",
      "         -0.1250,  0.2688, -0.0380, -0.5037,  0.2623, -0.3303, -0.3001, -0.2192,\n",
      "          0.1725, -0.0605,  0.5609,  0.6825]], grad_fn=<AddmmBackward0>)\n",
      "\n",
      "\n",
      "After ReLU: tensor([[0.4744, 0.0000, 0.0000, 0.4040, 0.0000, 0.0881, 0.0000, 0.0000, 0.0000,\n",
      "         0.1536, 0.0000, 0.0000, 0.0868, 0.0000, 0.1971, 0.0000, 0.0940, 0.1610,\n",
      "         0.2328, 0.4784],\n",
      "        [0.8194, 0.2368, 0.2059, 0.0772, 0.0000, 0.0086, 0.0000, 0.0000, 0.0000,\n",
      "         0.0000, 0.0000, 0.0000, 0.0000, 0.0000, 0.0000, 0.0000, 0.2295, 0.1855,\n",
      "         0.5291, 0.6245],\n",
      "        [0.5809, 0.0000, 0.0466, 0.2181, 0.0204, 0.3441, 0.0000, 0.0562, 0.0000,\n",
      "         0.2688, 0.0000, 0.0000, 0.2623, 0.0000, 0.0000, 0.0000, 0.1725, 0.0000,\n",
      "         0.5609, 0.6825]], grad_fn=<ReluBackward0>)\n"
     ]
    }
   ],
   "source": [
    "#input_image = torch.rand(3,28,28)\n",
    "#print(input_image.size())\n",
    "\n",
    "#flatten = nn.Flatten()\n",
    "#flat_image = flatten(input_image)\n",
    "#print(flat_image.size())\n",
    "\n",
    "#layer1 = nn.Linear(in_features=28*28, out_features=20)\n",
    "#hidden1 = layer1(flat_image)\n",
    "#print(hidden1.size())\n",
    "\n",
    "#print(f\"Before ReLU: {hidden1}\\n\\n\")\n",
    "#hidden1 = nn.ReLU()(hidden1)\n",
    "#print(f\"After ReLU: {hidden1}\")\n",
    "\n",
    "#seq_modules = nn.Sequential(\n",
    "#    flatten,\n",
    "#    layer1,\n",
    "#    nn.ReLU(),\n",
    "#    nn.Linear(20, 10)\n",
    "#)\n",
    "#input_image = torch.rand(3,28,28)\n",
    "#logits = seq_modules(input_image)\n",
    "\n",
    "#softmax = nn.Softmax(dim=1)\n",
    "#pred_probab = softmax(logits)"
   ]
  },
  {
   "cell_type": "markdown",
   "metadata": {},
   "source": [
    "Optimizing the Model Parameters\n",
    "----------------------------------------\n",
    "To train a model, we need a loss function and an optimizer and pass it to train loop and test loop."
   ]
  },
  {
   "cell_type": "markdown",
   "metadata": {},
   "source": [
    "#### Loss Function\n",
    "- measures the degree of dissimilarity of obtained result to the target value\n",
    "- is minimized during training\n",
    "- to calculate the loss we make a prediction using the inputs of our given data sample and compare it against the true data label value\n",
    "\n",
    "Common loss functions include `nn.MSELoss` (Mean Square Error) for regression tasks, and\n",
    "`nn.NLLLoss`(Negative Log Likelihood) for classification.\n",
    "`nn.CrossEntropyLoss` combines ``nn.LogSoftmax`` and ``nn.NLLLoss``.\n",
    "\n",
    "We pass our model's output logits to ``nn.CrossEntropyLoss``, which will normalize the logits and compute the prediction error."
   ]
  },
  {
   "cell_type": "code",
   "execution_count": 21,
   "metadata": {},
   "outputs": [],
   "source": [
    "loss_fn = nn.CrossEntropyLoss()"
   ]
  },
  {
   "cell_type": "markdown",
   "metadata": {},
   "source": [
    "#### Optimizer\n",
    "\n",
    "- Optimization: the process of adjusting model parameters to reduce model error in each training step.\n",
    "- Optimization algorithms define how this process is performed: SGD, ADAM, RMSProp\n",
    "- All optimization logic is encapsulated in the optimizer object.\n",
    "- We initialize the optimizer by registering the model's parameters that need to be trained, and passing in the learning rate hyperparameter."
   ]
  },
  {
   "cell_type": "code",
   "execution_count": 22,
   "metadata": {},
   "outputs": [],
   "source": [
    "optimizer = torch.optim.SGD(model.parameters(), lr=1e-3)\n",
    "#optimizer = torch.optim.SGD(model.parameters(), lr=learning_rate)"
   ]
  },
  {
   "cell_type": "markdown",
   "metadata": {},
   "source": [
    "Training a model is an iterative process; in each iteration (called an *epoch*) the model makes a guess about the output, calculates the error in its guess (*loss*), collects the derivatives of the error with respect to its parameters, and **optimizes** these parameters using gradient descent.\n",
    "\n",
    "In a single training loop, the model makes predictions on the training dataset (fed to it in batches), and backpropagates the prediction error to adjust the model's parameters."
   ]
  },
  {
   "cell_type": "code",
   "execution_count": 23,
   "metadata": {},
   "outputs": [],
   "source": [
    "#we define train method that loops over our optimization code\n",
    "\n",
    "def train(dataloader, model, loss_fn, optimizer):\n",
    "    size = len(dataloader.dataset)\n",
    "    model.train()\n",
    "    for batch, (X, y) in enumerate(dataloader):\n",
    "        X, y = X.to(device), y.to(device)\n",
    "\n",
    "        # Compute prediction error\n",
    "        pred = model(X)\n",
    "        loss = loss_fn(pred, y)\n",
    "\n",
    "# Backpropagation---\n",
    "\n",
    "#Inside the training loop, optimization happens in three steps:\n",
    "\n",
    "#-Call optimizer.zero_grad() to reset the gradients of model parameters. \n",
    "# Gradients by default add up; to prevent double-counting, we explicitly zero them at each iteration.\n",
    "        optimizer.zero_grad()\n",
    "\n",
    "#Backpropagate the prediction loss with a call to loss.backwards().\n",
    "#PyTorch deposits the gradients of the loss w.r.t. each parameter.\n",
    "        loss.backward()\n",
    "\n",
    "#Once we have our gradients, we call optimizer.step() to adjust the parameters\n",
    "#by the gradients collected in the backward pass.\n",
    "        optimizer.step()\n",
    "\n",
    "        if batch % 100 == 0:\n",
    "            loss, current = loss.item(), batch * len(X)\n",
    "            print(f\"loss: {loss:>7f}  [{current:>5d}/{size:>5d}]\")"
   ]
  },
  {
   "cell_type": "markdown",
   "metadata": {},
   "source": [
    "We also check the model's performance against the test dataset to ensure it is learning.\n",
    "\n"
   ]
  },
  {
   "cell_type": "code",
   "execution_count": 24,
   "metadata": {},
   "outputs": [],
   "source": [
    "#we define test_loop that evaluates the model's performance against our test data\n",
    "\n",
    "def test(dataloader, model, loss_fn):\n",
    "    size = len(dataloader.dataset)\n",
    "    num_batches = len(dataloader)\n",
    "    model.eval()\n",
    "    test_loss, correct = 0, 0\n",
    "    with torch.no_grad():\n",
    "        for X, y in dataloader:\n",
    "            X, y = X.to(device), y.to(device)\n",
    "            pred = model(X)\n",
    "            test_loss += loss_fn(pred, y).item()\n",
    "            correct += (pred.argmax(1) == y).type(torch.float).sum().item()\n",
    "    test_loss /= num_batches\n",
    "    correct /= size\n",
    "    print(f\"Test Error: \\n Accuracy: {(100*correct):>0.1f}%, Avg loss: {test_loss:>8f} \\n\")"
   ]
  },
  {
   "cell_type": "markdown",
   "metadata": {},
   "source": [
    "The training process is conducted over several iterations *epochs*.<br>\n",
    "During each epoch, the model learns parameters to make better predictions.<br>\n",
    "We print the model's accuracy and loss at each epoch; we'd like to see the\n",
    "accuracy increase and the loss decrease with every epoch."
   ]
  },
  {
   "cell_type": "code",
   "execution_count": 25,
   "metadata": {},
   "outputs": [
    {
     "name": "stdout",
     "output_type": "stream",
     "text": [
      "Epoch 1\n",
      "-------------------------------\n",
      "loss: 2.304628  [    0/60000]\n",
      "loss: 2.294384  [ 6400/60000]\n",
      "loss: 2.265129  [12800/60000]\n",
      "loss: 2.260792  [19200/60000]\n",
      "loss: 2.263097  [25600/60000]\n",
      "loss: 2.219875  [32000/60000]\n",
      "loss: 2.238781  [38400/60000]\n",
      "loss: 2.202724  [44800/60000]\n",
      "loss: 2.198529  [51200/60000]\n",
      "loss: 2.168016  [57600/60000]\n",
      "Test Error: \n",
      " Accuracy: 33.3%, Avg loss: 2.160757 \n",
      "\n",
      "Epoch 2\n",
      "-------------------------------\n",
      "loss: 2.172502  [    0/60000]\n",
      "loss: 2.163223  [ 6400/60000]\n",
      "loss: 2.103494  [12800/60000]\n",
      "loss: 2.121705  [19200/60000]\n",
      "loss: 2.090804  [25600/60000]\n",
      "loss: 2.016382  [32000/60000]\n",
      "loss: 2.054311  [38400/60000]\n",
      "loss: 1.977199  [44800/60000]\n",
      "loss: 1.988357  [51200/60000]\n",
      "loss: 1.919157  [57600/60000]\n",
      "Test Error: \n",
      " Accuracy: 56.7%, Avg loss: 1.912246 \n",
      "\n",
      "Epoch 3\n",
      "-------------------------------\n",
      "loss: 1.945292  [    0/60000]\n",
      "loss: 1.915265  [ 6400/60000]\n",
      "loss: 1.804762  [12800/60000]\n",
      "loss: 1.844501  [19200/60000]\n",
      "loss: 1.749438  [25600/60000]\n",
      "loss: 1.689220  [32000/60000]\n",
      "loss: 1.719785  [38400/60000]\n",
      "loss: 1.621941  [44800/60000]\n",
      "loss: 1.654159  [51200/60000]\n",
      "loss: 1.550530  [57600/60000]\n",
      "Test Error: \n",
      " Accuracy: 62.3%, Avg loss: 1.557921 \n",
      "\n",
      "Epoch 4\n",
      "-------------------------------\n",
      "loss: 1.626962  [    0/60000]\n",
      "loss: 1.585515  [ 6400/60000]\n",
      "loss: 1.443877  [12800/60000]\n",
      "loss: 1.505144  [19200/60000]\n",
      "loss: 1.395800  [25600/60000]\n",
      "loss: 1.381342  [32000/60000]\n",
      "loss: 1.395130  [38400/60000]\n",
      "loss: 1.319348  [44800/60000]\n",
      "loss: 1.357085  [51200/60000]\n",
      "loss: 1.257907  [57600/60000]\n",
      "Test Error: \n",
      " Accuracy: 64.0%, Avg loss: 1.276471 \n",
      "\n",
      "Epoch 5\n",
      "-------------------------------\n",
      "loss: 1.357462  [    0/60000]\n",
      "loss: 1.334530  [ 6400/60000]\n",
      "loss: 1.173268  [12800/60000]\n",
      "loss: 1.265843  [19200/60000]\n",
      "loss: 1.151703  [25600/60000]\n",
      "loss: 1.166775  [32000/60000]\n",
      "loss: 1.183466  [38400/60000]\n",
      "loss: 1.121992  [44800/60000]\n",
      "loss: 1.163548  [51200/60000]\n",
      "loss: 1.079996  [57600/60000]\n",
      "Test Error: \n",
      " Accuracy: 65.0%, Avg loss: 1.096214 \n",
      "\n",
      "Done!\n"
     ]
    }
   ],
   "source": [
    "#To use the model, we pass it the input data.\n",
    "#This executes the model's forward, along with some background operations.\n",
    "\n",
    "epochs = 5\n",
    "for t in range(epochs):\n",
    "    print(f\"Epoch {t+1}\\n-------------------------------\")\n",
    "    train(train_dataloader, model, loss_fn, optimizer)\n",
    "    test(test_dataloader, model, loss_fn)\n",
    "print(\"Done!\")"
   ]
  },
  {
   "cell_type": "markdown",
   "metadata": {},
   "source": [
    "#### Model Parameters\n",
    "\n",
    "Many layers inside a neural network are *parameterized*, i.e. have associated weights\n",
    "and biases that are optimized during training. Subclassing ``nn.Module`` automatically\n",
    "tracks all fields defined inside your model object, and makes all parameters\n",
    "accessible using your model's ``parameters()`` or ``named_parameters()`` methods."
   ]
  },
  {
   "cell_type": "code",
   "execution_count": 26,
   "metadata": {},
   "outputs": [
    {
     "name": "stdout",
     "output_type": "stream",
     "text": [
      "Model structure:  NeuralNetwork(\n",
      "  (flatten): Flatten(start_dim=1, end_dim=-1)\n",
      "  (linear_relu_stack): Sequential(\n",
      "    (0): Linear(in_features=784, out_features=512, bias=True)\n",
      "    (1): ReLU()\n",
      "    (2): Linear(in_features=512, out_features=512, bias=True)\n",
      "    (3): ReLU()\n",
      "    (4): Linear(in_features=512, out_features=10, bias=True)\n",
      "  )\n",
      ") \n",
      "\n",
      "\n",
      "Layer: linear_relu_stack.0.weight | Size: torch.Size([512, 784]) | Values : tensor([[-0.0088,  0.0262,  0.0222,  ...,  0.0094, -0.0259,  0.0302],\n",
      "        [ 0.0038,  0.0280, -0.0059,  ..., -0.0048, -0.0105,  0.0110]],\n",
      "       device='cuda:0', grad_fn=<SliceBackward0>) \n",
      "\n",
      "Layer: linear_relu_stack.0.bias | Size: torch.Size([512]) | Values : tensor([0.0288, 0.0117], device='cuda:0', grad_fn=<SliceBackward0>) \n",
      "\n",
      "Layer: linear_relu_stack.2.weight | Size: torch.Size([512, 512]) | Values : tensor([[ 0.0031, -0.0355,  0.0138,  ...,  0.0163, -0.0347, -0.0028],\n",
      "        [-0.0231,  0.0393, -0.0342,  ...,  0.0415, -0.0366, -0.0185]],\n",
      "       device='cuda:0', grad_fn=<SliceBackward0>) \n",
      "\n",
      "Layer: linear_relu_stack.2.bias | Size: torch.Size([512]) | Values : tensor([-0.0280, -0.0365], device='cuda:0', grad_fn=<SliceBackward0>) \n",
      "\n",
      "Layer: linear_relu_stack.4.weight | Size: torch.Size([10, 512]) | Values : tensor([[ 0.0370,  0.0015,  0.0042,  ..., -0.0170,  0.0241, -0.0423],\n",
      "        [-0.0172, -0.0227,  0.0425,  ...,  0.0049, -0.0111,  0.0190]],\n",
      "       device='cuda:0', grad_fn=<SliceBackward0>) \n",
      "\n",
      "Layer: linear_relu_stack.4.bias | Size: torch.Size([10]) | Values : tensor([-0.0037,  0.0659], device='cuda:0', grad_fn=<SliceBackward0>) \n",
      "\n"
     ]
    }
   ],
   "source": [
    "print(\"Model structure: \", model, \"\\n\\n\")\n",
    "\n",
    "for name, param in model.named_parameters():\n",
    "    print(f\"Layer: {name} | Size: {param.size()} | Values : {param[:2]} \\n\")"
   ]
  },
  {
   "cell_type": "markdown",
   "metadata": {},
   "source": [
    "Saving Models Weights\n",
    "-------------\n",
    "save a model (the learned parameters) = serialize the internal state dictionary ``state_dict`` (containing the model parameters)<br>\n",
    "method: ``torch.save``"
   ]
  },
  {
   "cell_type": "code",
   "execution_count": 27,
   "metadata": {},
   "outputs": [
    {
     "name": "stdout",
     "output_type": "stream",
     "text": [
      "Saved PyTorch Model State to model.pth\n"
     ]
    }
   ],
   "source": [
    "# model = models.vgg16(pretrained=True) #jakiś pretrenowany model \n",
    "\n",
    "torch.save(model.state_dict(), \"model.pth\")\n",
    "print(\"Saved PyTorch Model State to model.pth\")"
   ]
  },
  {
   "cell_type": "markdown",
   "metadata": {},
   "source": [
    "Loading Models Weights\n",
    "----------------------------\n",
    "To load model weights, you need to create an instance of the same model first, and then load the parameters using ``load_state_dict()`` method."
   ]
  },
  {
   "cell_type": "code",
   "execution_count": 28,
   "metadata": {},
   "outputs": [
    {
     "data": {
      "text/plain": [
       "<All keys matched successfully>"
      ]
     },
     "execution_count": 28,
     "metadata": {},
     "output_type": "execute_result"
    }
   ],
   "source": [
    "model = NeuralNetwork()  # do not specify pretrained=True, i.e. do not load default weights\n",
    "model.load_state_dict(torch.load(\"model.pth\"))"
   ]
  },
  {
   "cell_type": "markdown",
   "metadata": {},
   "source": [
    "This model can now be used to make predictions.\n",
    "\n"
   ]
  },
  {
   "cell_type": "code",
   "execution_count": 23,
   "metadata": {},
   "outputs": [],
   "source": [
    "#We might want to save the structure of this class together with the model, \n",
    "#in which case we can pass model (and not model.state_dict()) to the saving function:\n",
    "torch.save(model, 'model.pth')\n",
    "\n",
    "#We can then load the model like this:\n",
    "model = torch.load('model.pth')\n",
    "\n",
    "#This approach uses Python pickle module when serializing the model, \n",
    "#thus it relies on the actual class definition to be available when loading the model."
   ]
  },
  {
   "cell_type": "code",
   "execution_count": 31,
   "metadata": {},
   "outputs": [],
   "source": [
    "classes = [\n",
    "    \"T-shirt/top\",\n",
    "    \"Trouser\",\n",
    "    \"Pullover\",\n",
    "    \"Dress\",\n",
    "    \"Coat\",\n",
    "    \"Sandal\",\n",
    "    \"Shirt\",\n",
    "    \"Sneaker\",\n",
    "    \"Bag\",\n",
    "    \"Ankle boot\",\n",
    "]"
   ]
  },
  {
   "cell_type": "markdown",
   "metadata": {},
   "source": [
    "Be sure to call ``model.eval()`` method before inferencing to set the dropout and batch normalization layers to evaluation mode. Failing to do this will yield inconsistent inference results."
   ]
  },
  {
   "cell_type": "code",
   "execution_count": 32,
   "metadata": {},
   "outputs": [
    {
     "data": {
      "text/plain": [
       "NeuralNetwork(\n",
       "  (flatten): Flatten(start_dim=1, end_dim=-1)\n",
       "  (linear_relu_stack): Sequential(\n",
       "    (0): Linear(in_features=784, out_features=512, bias=True)\n",
       "    (1): ReLU()\n",
       "    (2): Linear(in_features=512, out_features=512, bias=True)\n",
       "    (3): ReLU()\n",
       "    (4): Linear(in_features=512, out_features=10, bias=True)\n",
       "  )\n",
       ")"
      ]
     },
     "execution_count": 32,
     "metadata": {},
     "output_type": "execute_result"
    }
   ],
   "source": [
    "model.eval()"
   ]
  },
  {
   "cell_type": "code",
   "execution_count": 34,
   "metadata": {},
   "outputs": [],
   "source": [
    "#X = torch.rand(1, 28, 28, device=device)\n",
    "#logits = model(X)\n",
    "#pred_probab = nn.Softmax(dim=1)(logits)\n",
    "#y_pred = pred_probab.argmax(1)\n",
    "#print(f\"Predicted class: {y_pred}\")"
   ]
  },
  {
   "cell_type": "code",
   "execution_count": 33,
   "metadata": {},
   "outputs": [
    {
     "name": "stdout",
     "output_type": "stream",
     "text": [
      "Predicted: \"Ankle boot\", Actual: \"Ankle boot\"\n"
     ]
    }
   ],
   "source": [
    "x, y = test_data[0][0], test_data[0][1]\n",
    "with torch.no_grad():\n",
    "    pred = model(x)\n",
    "    predicted, actual = classes[pred[0].argmax(0)], classes[y]\n",
    "    print(f'Predicted: \"{predicted}\", Actual: \"{actual}\"')"
   ]
  },
  {
   "cell_type": "markdown",
   "metadata": {},
   "source": [
    "Further Reading\n",
    "-----------------------\n",
    "- `Saving and Loading a General Checkpoint in PyTorch <https://pytorch.org/tutorials/recipes/recipes/saving_and_loading_a_general_checkpoint.html>`_\n",
    "- `Loss Functions <https://pytorch.org/docs/stable/nn.html#loss-functions>`_\n",
    "- `torch.optim <https://pytorch.org/docs/stable/optim.html>`_\n",
    "- `Warmstart Training a Model <https://pytorch.org/tutorials/recipes/recipes/warmstarting_model_using_parameters_from_a_different_model.html>`"
   ]
  },
  {
   "cell_type": "code",
   "execution_count": null,
   "metadata": {},
   "outputs": [],
   "source": []
  }
 ],
 "metadata": {
  "kernelspec": {
   "display_name": "Python 3",
   "language": "python",
   "name": "python3"
  },
  "language_info": {
   "codemirror_mode": {
    "name": "ipython",
    "version": 3
   },
   "file_extension": ".py",
   "mimetype": "text/x-python",
   "name": "python",
   "nbconvert_exporter": "python",
   "pygments_lexer": "ipython3",
   "version": "3.9.9"
  }
 },
 "nbformat": 4,
 "nbformat_minor": 1
}
