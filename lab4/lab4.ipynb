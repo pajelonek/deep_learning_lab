{
 "cells": [
  {
   "cell_type": "code",
   "execution_count": 35,
   "outputs": [
    {
     "name": "stderr",
     "output_type": "stream",
     "text": [
      "[nltk_data] Downloading package punkt to\n",
      "[nltk_data]     C:\\Users\\pawst\\AppData\\Roaming\\nltk_data...\n",
      "[nltk_data]   Package punkt is already up-to-date!\n",
      "[nltk_data] Downloading package stopwords to\n",
      "[nltk_data]     C:\\Users\\pawst\\AppData\\Roaming\\nltk_data...\n",
      "[nltk_data]   Package stopwords is already up-to-date!\n",
      "[nltk_data] Downloading package wordnet to\n",
      "[nltk_data]     C:\\Users\\pawst\\AppData\\Roaming\\nltk_data...\n",
      "[nltk_data]   Package wordnet is already up-to-date!\n",
      "[nltk_data] Downloading package omw-1.4 to\n",
      "[nltk_data]     C:\\Users\\pawst\\AppData\\Roaming\\nltk_data...\n",
      "[nltk_data]   Package omw-1.4 is already up-to-date!\n",
      "[nltk_data] Downloading package averaged_perceptron_tagger to\n",
      "[nltk_data]     C:\\Users\\pawst\\AppData\\Roaming\\nltk_data...\n",
      "[nltk_data]   Package averaged_perceptron_tagger is already up-to-\n",
      "[nltk_data]       date!\n",
      "[nltk_data] Downloading package tagsets to\n",
      "[nltk_data]     C:\\Users\\pawst\\AppData\\Roaming\\nltk_data...\n",
      "[nltk_data]   Package tagsets is already up-to-date!\n"
     ]
    },
    {
     "data": {
      "text/plain": "True"
     },
     "execution_count": 35,
     "metadata": {},
     "output_type": "execute_result"
    }
   ],
   "source": [
    "import nltk\n",
    "from nltk.tokenize import word_tokenize\n",
    "from nltk.stem import WordNetLemmatizer\n",
    "from nltk.stem.porter import PorterStemmer\n",
    "from nltk.corpus import stopwords\n",
    "\n",
    "nltk.download('punkt') # tokenization\n",
    "nltk.download('stopwords') # stopwords\n",
    "nltk.download('wordnet') # lemmatization\n",
    "nltk.download('omw-1.4') # lemmatization\n",
    "nltk.download('averaged_perceptron_tagger') # tagging\n",
    "nltk.download('tagsets') # tagging"
   ],
   "metadata": {
    "collapsed": false,
    "pycharm": {
     "name": "#%%\n"
    }
   }
  },
  {
   "cell_type": "markdown",
   "metadata": {
    "collapsed": true,
    "pycharm": {
     "name": "#%% md\n"
    }
   },
   "source": [
    "## 2. Please familiarize yourself with the methods of text analysis (NLP: Natural Language Processing).\n",
    "## The following English terms will be helpful in finding information:\n",
    "- normalization\n",
    "- cleaning\n",
    "- tokenization\n",
    "- stop word removal\n",
    "- stemming\n",
    "- lemmatization\n",
    "- tagging\n",
    "- N-grams\n",
    "\n",
    "and the following representations:\n",
    "- frequency encoding\n",
    "- one-hot encoding\n",
    "- TF-IDF\n",
    "- continuous word representation\n",
    "- word embeddings ( Word2Vec, GloVe, fastText).\n",
    "\n",
    "Find the above text analysis methods in any Python API."
   ]
  },
  {
   "cell_type": "markdown",
   "source": [
    "### Tokenization\n",
    "#### Tokenization means splitting up strings of text into smaller pieces."
   ],
   "metadata": {
    "collapsed": false,
    "pycharm": {
     "name": "#%% md\n"
    }
   }
  },
  {
   "cell_type": "code",
   "execution_count": 17,
   "outputs": [
    {
     "name": "stdout",
     "output_type": "stream",
     "text": [
      "Sample text: \n",
      "These are short, famous texts in English from classic sources like the Bible or Shakespeare. Some texts have word definitions and explanations to help you. Some of these texts are written in an old style of English. Try to understand them, because the English that we speak today is based on what our great, great, great, great grandparents spoke before! Of course, not all these texts were originally written in English. The Bible, for example, is a translation. But they are all well known in English today, and many of them express beautiful thoughts.\n",
      "Tokenized text: \n",
      "['These', 'are', 'short', ',', 'famous', 'texts', 'in', 'English', 'from', 'classic', 'sources', 'like', 'the', 'Bible', 'or', 'Shakespeare', '.', 'Some', 'texts', 'have', 'word', 'definitions', 'and', 'explanations', 'to', 'help', 'you', '.', 'Some', 'of', 'these', 'texts', 'are', 'written', 'in', 'an', 'old', 'style', 'of', 'English', '.', 'Try', 'to', 'understand', 'them', ',', 'because', 'the', 'English', 'that', 'we', 'speak', 'today', 'is', 'based', 'on', 'what', 'our', 'great', ',', 'great', ',', 'great', ',', 'great', 'grandparents', 'spoke', 'before', '!', 'Of', 'course', ',', 'not', 'all', 'these', 'texts', 'were', 'originally', 'written', 'in', 'English', '.', 'The', 'Bible', ',', 'for', 'example', ',', 'is', 'a', 'translation', '.', 'But', 'they', 'are', 'all', 'well', 'known', 'in', 'English', 'today', ',', 'and', 'many', 'of', 'them', 'express', 'beautiful', 'thoughts', '.']\n",
      "Splitted text: \n",
      "['These', 'are', 'short,', 'famous', 'texts', 'in', 'English', 'from', 'classic', 'sources', 'like', 'the', 'Bible', 'or', 'Shakespeare.', 'Some', 'texts', 'have', 'word', 'definitions', 'and', 'explanations', 'to', 'help', 'you.', 'Some', 'of', 'these', 'texts', 'are', 'written', 'in', 'an', 'old', 'style', 'of', 'English.', 'Try', 'to', 'understand', 'them,', 'because', 'the', 'English', 'that', 'we', 'speak', 'today', 'is', 'based', 'on', 'what', 'our', 'great,', 'great,', 'great,', 'great', 'grandparents', 'spoke', 'before!', 'Of', 'course,', 'not', 'all', 'these', 'texts', 'were', 'originally', 'written', 'in', 'English.', 'The', 'Bible,', 'for', 'example,', 'is', 'a', 'translation.', 'But', 'they', 'are', 'all', 'well', 'known', 'in', 'English', 'today,', 'and', 'many', 'of', 'them', 'express', 'beautiful', 'thoughts.']\n"
     ]
    }
   ],
   "source": [
    "text = \"These are short, famous texts in English from classic sources like the Bible or Shakespeare. Some texts have word definitions and explanations to help you. Some of these texts are written in an old style of English. Try to understand them, because the English that we speak today is based on what our great, great, great, great grandparents spoke before! Of course, not all these texts were originally written in English. The Bible, for example, is a translation. But they are all well known in English today, and many of them express beautiful thoughts.\"\n",
    "print(\"Sample text: \\n{}\".format(text))\n",
    "tokenized_text = word_tokenize(text, 'english')\n",
    "print(\"Tokenized text: \\n{}\".format(tokenized_text))\n",
    "print(\"Splitted text: \\n{}\".format(text.split()))"
   ],
   "metadata": {
    "collapsed": false,
    "pycharm": {
     "name": "#%%\n"
    }
   }
  },
  {
   "cell_type": "markdown",
   "source": [
    "### Stopwords removal\n",
    "#### Stopwords are commonly occuring words in a language like 'the', 'a' and so on. They can be removed from the text most of the times, as they don't provide valuable information for downstream analysis."
   ],
   "metadata": {
    "collapsed": false
   }
  },
  {
   "cell_type": "code",
   "execution_count": 18,
   "outputs": [
    {
     "name": "stdout",
     "output_type": "stream",
     "text": [
      "Text with stopwords:\n",
      "These are short, famous texts in English from classic sources like the Bible or Shakespeare. Some texts have word definitions and explanations to help you. Some of these texts are written in an old style of English. Try to understand them, because the English that we speak today is based on what our great, great, great, great grandparents spoke before! Of course, not all these texts were originally written in English. The Bible, for example, is a translation. But they are all well known in English today, and many of them express beautiful thoughts.\n",
      "Text without stopwords:\n",
      "These short, famous texts English classic sources like Bible Shakespeare. Some texts word definitions explanations help you. Some texts written old style English. Try understand them, English speak today based great, great, great, great grandparents spoke before! Of course, texts originally written English. The Bible, example, translation. But well known English today, many express beautiful thoughts.\n"
     ]
    }
   ],
   "source": [
    "text = \"These are short, famous texts in English from classic sources like the Bible or Shakespeare. Some texts have word definitions and explanations to help you. Some of these texts are written in an old style of English. Try to understand them, because the English that we speak today is based on what our great, great, great, great grandparents spoke before! Of course, not all these texts were originally written in English. The Bible, for example, is a translation. But they are all well known in English today, and many of them express beautiful thoughts.\"\n",
    "STOPWORDS = set(stopwords.words('english'))\n",
    "def remove_stopwords(text: str) -> str:\n",
    "    return \" \".join([word for word in str(text).split() if word not in STOPWORDS])\n",
    "print(\"Text with stopwords:\\n{}\".format(text))\n",
    "print(\"Text without stopwords:\\n{}\".format(remove_stopwords(text)))"
   ],
   "metadata": {
    "collapsed": false,
    "pycharm": {
     "name": "#%%\n"
    }
   }
  },
  {
   "cell_type": "markdown",
   "source": [
    "### Stemming\n",
    "#### Stemming is the process of reducing inflected (or sometimes derived) words to their word stem, base or root form.\n",
    "##### For example, if there are two words in the corpus walks and walking, then stemming will stem the suffix to make them walk."
   ],
   "metadata": {
    "collapsed": false,
    "pycharm": {
     "name": "#%% md\n"
    }
   }
  },
  {
   "cell_type": "code",
   "execution_count": 20,
   "outputs": [
    {
     "name": "stdout",
     "output_type": "stream",
     "text": [
      "Text before stemming:\n",
      "These are short, famous texts in English from classic sources like the Bible or Shakespeare. Some texts have word definitions and explanations to help you. Some of these texts are written in an old style of English. Try to understand them, because the English that we speak today is based on what our great, great, great, great grandparents spoke before! Of course, not all these texts were originally written in English. The Bible, for example, is a translation. But they are all well known in English today, and many of them express beautiful thoughts.\n",
      "Text after stemming:\n",
      "these are short, famou text in english from classic sourc like the bibl or shakespeare. some text have word definit and explan to help you. some of these text are written in an old style of english. tri to understand them, becaus the english that we speak today is base on what our great, great, great, great grandpar spoke before! of course, not all these text were origin written in english. the bible, for example, is a translation. but they are all well known in english today, and mani of them express beauti thoughts.\n"
     ]
    }
   ],
   "source": [
    "text = \"These are short, famous texts in English from classic sources like the Bible or Shakespeare. Some texts have word definitions and explanations to help you. Some of these texts are written in an old style of English. Try to understand them, because the English that we speak today is based on what our great, great, great, great grandparents spoke before! Of course, not all these texts were originally written in English. The Bible, for example, is a translation. But they are all well known in English today, and many of them express beautiful thoughts.\"\n",
    "stemmer = PorterStemmer()\n",
    "def stemming(text: str) -> str:\n",
    "    return \" \".join([stemmer.stem(word) for word in text.split()])\n",
    "print(\"Text before stemming:\\n{}\".format(text))\n",
    "print(\"Text after stemming:\\n{}\".format(stemming(text)))"
   ],
   "metadata": {
    "collapsed": false,
    "pycharm": {
     "name": "#%%\n"
    }
   }
  },
  {
   "cell_type": "markdown",
   "source": [
    "### Lemmatization\n",
    "#### Lemmatization is similar to stemming in reducing inflected words to their word stem but differs in the way that it makes sure the root word (also called as lemma) belongs to the language."
   ],
   "metadata": {
    "collapsed": false,
    "pycharm": {
     "name": "#%% md\n"
    }
   }
  },
  {
   "cell_type": "code",
   "execution_count": 28,
   "outputs": [
    {
     "name": "stdout",
     "output_type": "stream",
     "text": [
      "Text before lemmatization:\n",
      "These are short, famous texts in English from classic sources like the Bible or Shakespeare. Some texts have word definitions and explanations to help you. Some of these texts are written in an old style of English. Try to understand them, because the English that we speak today is based on what our great, great, great, great grandparents spoke before! Of course, not all these texts were originally written in English. The Bible, for example, is a translation. But they are all well known in English today, and many of them express beautiful thoughts.\n",
      "Text after lemmatization:\n",
      "These are short, famous text in English from classic source like the Bible or Shakespeare. Some text have word definition and explanation to help you. Some of these text are written in an old style of English. Try to understand them, because the English that we speak today is based on what our great, great, great, great grandparent spoke before! Of course, not all these text were originally written in English. The Bible, for example, is a translation. But they are all well known in English today, and many of them express beautiful thoughts.\n"
     ]
    }
   ],
   "source": [
    "text = \"These are short, famous texts in English from classic sources like the Bible or Shakespeare. Some texts have word definitions and explanations to help you. Some of these texts are written in an old style of English. Try to understand them, because the English that we speak today is based on what our great, great, great, great grandparents spoke before! Of course, not all these texts were originally written in English. The Bible, for example, is a translation. But they are all well known in English today, and many of them express beautiful thoughts.\"\n",
    "lemmatizer = WordNetLemmatizer()\n",
    "def lemmatization(text: str) -> str:\n",
    "    return \" \".join([lemmatizer.lemmatize(word) for word in text.split()])\n",
    "print(\"Text before lemmatization:\\n{}\".format(text))\n",
    "print(\"Text after lemmatization:\\n{}\".format(lemmatization(text)))"
   ],
   "metadata": {
    "collapsed": false,
    "pycharm": {
     "name": "#%%\n"
    }
   }
  },
  {
   "cell_type": "markdown",
   "source": [
    "### Tagging\n",
    "#### Tagging is an essential feature of text processing where we tag the words into grammatical categorization. We take help of tokenization and pos_tag function to create the tags for each word."
   ],
   "metadata": {
    "collapsed": false,
    "pycharm": {
     "name": "#%% md\n"
    }
   }
  },
  {
   "cell_type": "code",
   "execution_count": 32,
   "outputs": [
    {
     "name": "stdout",
     "output_type": "stream",
     "text": [
      "Text before tagging:\n",
      "These are short, famous texts in English from classic sources like the Bible or Shakespeare. Some texts have word definitions and explanations to help you. Some of these texts are written in an old style of English. Try to understand them, because the English that we speak today is based on what our great, great, great, great grandparents spoke before! Of course, not all these texts were originally written in English. The Bible, for example, is a translation. But they are all well known in English today, and many of them express beautiful thoughts.\n",
      "Text after tagging:\n",
      "[('These', 'DT'), ('are', 'VBP'), ('short', 'JJ'), (',', ','), ('famous', 'JJ'), ('texts', 'NN'), ('in', 'IN'), ('English', 'NNP'), ('from', 'IN'), ('classic', 'JJ'), ('sources', 'NNS'), ('like', 'IN'), ('the', 'DT'), ('Bible', 'NNP'), ('or', 'CC'), ('Shakespeare', 'NNP'), ('.', '.'), ('Some', 'DT'), ('texts', 'NNS'), ('have', 'VBP'), ('word', 'NN'), ('definitions', 'NNS'), ('and', 'CC'), ('explanations', 'NNS'), ('to', 'TO'), ('help', 'VB'), ('you', 'PRP'), ('.', '.'), ('Some', 'DT'), ('of', 'IN'), ('these', 'DT'), ('texts', 'NNS'), ('are', 'VBP'), ('written', 'VBN'), ('in', 'IN'), ('an', 'DT'), ('old', 'JJ'), ('style', 'NN'), ('of', 'IN'), ('English', 'NNP'), ('.', '.'), ('Try', 'VB'), ('to', 'TO'), ('understand', 'VB'), ('them', 'PRP'), (',', ','), ('because', 'IN'), ('the', 'DT'), ('English', 'NNP'), ('that', 'IN'), ('we', 'PRP'), ('speak', 'VBP'), ('today', 'NN'), ('is', 'VBZ'), ('based', 'VBN'), ('on', 'IN'), ('what', 'WP'), ('our', 'PRP$'), ('great', 'JJ'), (',', ','), ('great', 'JJ'), (',', ','), ('great', 'JJ'), (',', ','), ('great', 'JJ'), ('grandparents', 'NNS'), ('spoke', 'VBD'), ('before', 'IN'), ('!', '.'), ('Of', 'IN'), ('course', 'NN'), (',', ','), ('not', 'RB'), ('all', 'PDT'), ('these', 'DT'), ('texts', 'NNS'), ('were', 'VBD'), ('originally', 'RB'), ('written', 'VBN'), ('in', 'IN'), ('English', 'NNP'), ('.', '.'), ('The', 'DT'), ('Bible', 'NNP'), (',', ','), ('for', 'IN'), ('example', 'NN'), (',', ','), ('is', 'VBZ'), ('a', 'DT'), ('translation', 'NN'), ('.', '.'), ('But', 'CC'), ('they', 'PRP'), ('are', 'VBP'), ('all', 'DT'), ('well', 'RB'), ('known', 'VBN'), ('in', 'IN'), ('English', 'NNP'), ('today', 'NN'), (',', ','), ('and', 'CC'), ('many', 'JJ'), ('of', 'IN'), ('them', 'PRP'), ('express', 'VBP'), ('beautiful', 'JJ'), ('thoughts', 'NNS'), ('.', '.')]\n"
     ]
    }
   ],
   "source": [
    "text = \"These are short, famous texts in English from classic sources like the Bible or Shakespeare. Some texts have word definitions and explanations to help you. Some of these texts are written in an old style of English. Try to understand them, because the English that we speak today is based on what our great, great, great, great grandparents spoke before! Of course, not all these texts were originally written in English. The Bible, for example, is a translation. But they are all well known in English today, and many of them express beautiful thoughts.\"\n",
    "def tagging(text: str) -> str:\n",
    "    return  nltk.pos_tag(nltk.word_tokenize(text))\n",
    "\n",
    "print(\"Text before tagging:\\n{}\".format(text))\n",
    "print(\"Text after tagging:\\n{}\".format(tagging(text)))"
   ],
   "metadata": {
    "collapsed": false,
    "pycharm": {
     "name": "#%%\n"
    }
   }
  },
  {
   "cell_type": "markdown",
   "source": [
    "We can describe the meaning of each tag by using the following program which shows the in-built values."
   ],
   "metadata": {
    "collapsed": false,
    "pycharm": {
     "name": "#%% md\n"
    }
   }
  },
  {
   "cell_type": "code",
   "execution_count": 36,
   "outputs": [
    {
     "name": "stdout",
     "output_type": "stream",
     "text": [
      "NN: noun, common, singular or mass\n",
      "    common-carrier cabbage knuckle-duster Casino afghan shed thermostat\n",
      "    investment slide humour falloff slick wind hyena override subhumanity\n",
      "    machinist ...\n",
      "IN: preposition or conjunction, subordinating\n",
      "    astride among uppon whether out inside pro despite on by throughout\n",
      "    below within for towards near behind atop around if like until below\n",
      "    next into if beside ...\n",
      "DT: determiner\n",
      "    all an another any both del each either every half la many much nary\n",
      "    neither no some such that the them these this those\n"
     ]
    }
   ],
   "source": [
    "nltk.help.upenn_tagset('NN')\n",
    "nltk.help.upenn_tagset('IN')\n",
    "nltk.help.upenn_tagset('DT')"
   ],
   "metadata": {
    "collapsed": false,
    "pycharm": {
     "name": "#%%\n"
    }
   }
  },
  {
   "cell_type": "markdown",
   "source": [
    "### N-grams\n",
    "#### N-grams are continuous sequences of words or symbols or tokens in a document. In technical terms, they can be defined as the neighbouring sequences of items in a document.\n",
    "Thinking in the same lines, n-grams are classified into the following types, depending on the value that ‘n’ takes.\n",
    "\n",
    "| n | term    |\n",
    "|---|---------|\n",
    "| 1 | unigram |\n",
    "| 2 | bigram  |\n",
    "| 3 | trigram |\n",
    "| n | n-gram  |"
   ],
   "metadata": {
    "collapsed": false,
    "pycharm": {
     "name": "#%% md\n"
    }
   }
  },
  {
   "cell_type": "code",
   "execution_count": null,
   "outputs": [],
   "source": [
    "# https://www.analyticsvidhya.com/blog/2021/09/what-are-n-grams-and-how-to-implement-them-in-python/"
   ],
   "metadata": {
    "collapsed": false,
    "pycharm": {
     "name": "#%%\n"
    }
   }
  },
  {
   "cell_type": "markdown",
   "source": [
    "### Text Normalization\n",
    "Text normalization includes:\n",
    "- converting all letters to lower or upper case\n",
    "- converting numbers into words or removing numbers\n",
    "- removing punctuations, accent marks and other diacritics\n",
    "- removing white spaces\n",
    "- expanding abbreviations\n",
    "- removing stop words, sparse terms, and particular words\n",
    "- text canonicalization"
   ],
   "metadata": {
    "collapsed": false,
    "pycharm": {
     "name": "#%% md\n"
    }
   }
  },
  {
   "cell_type": "markdown",
   "source": [
    "### Text cleaning\n",
    "#### Preparing raw text for NLP so that machines can understand human language.\n",
    "Steps:\n",
    "- remove extra spaces\n",
    "- remove punctuations\n",
    "- case normalization\n",
    "- tokenization\n",
    "- remove stopwords\n",
    "- lemming / stemming"
   ],
   "metadata": {
    "collapsed": false
   }
  },
  {
   "cell_type": "code",
   "execution_count": null,
   "outputs": [],
   "source": [],
   "metadata": {
    "collapsed": false,
    "pycharm": {
     "name": "#%%\n"
    }
   }
  },
  {
   "cell_type": "markdown",
   "source": [
    "### frequency encoding"
   ],
   "metadata": {
    "collapsed": false,
    "pycharm": {
     "name": "#%% md\n"
    }
   }
  },
  {
   "cell_type": "code",
   "source": [],
   "metadata": {
    "collapsed": false,
    "pycharm": {
     "name": "#%%\n"
    }
   },
   "execution_count": null,
   "outputs": []
  },
  {
   "cell_type": "markdown",
   "source": [
    "### one-hot encoding"
   ],
   "metadata": {
    "collapsed": false,
    "pycharm": {
     "name": "#%% md\n"
    }
   }
  },
  {
   "cell_type": "code",
   "execution_count": null,
   "outputs": [],
   "source": [],
   "metadata": {
    "collapsed": false,
    "pycharm": {
     "name": "#%%\n"
    }
   }
  },
  {
   "cell_type": "markdown",
   "source": [
    "###  TF-IDF"
   ],
   "metadata": {
    "collapsed": false
   }
  },
  {
   "cell_type": "code",
   "execution_count": null,
   "outputs": [],
   "source": [],
   "metadata": {
    "collapsed": false,
    "pycharm": {
     "name": "#%%\n"
    }
   }
  },
  {
   "cell_type": "markdown",
   "source": [
    "###  continuous word representation"
   ],
   "metadata": {
    "collapsed": false
   }
  },
  {
   "cell_type": "code",
   "execution_count": null,
   "outputs": [],
   "source": [],
   "metadata": {
    "collapsed": false,
    "pycharm": {
     "name": "#%%\n"
    }
   }
  },
  {
   "cell_type": "markdown",
   "source": [
    "###  word embeddings ( Word2Vec, GloVe, fastText)."
   ],
   "metadata": {
    "collapsed": false
   }
  },
  {
   "cell_type": "code",
   "execution_count": null,
   "outputs": [],
   "source": [],
   "metadata": {
    "collapsed": false,
    "pycharm": {
     "name": "#%%\n"
    }
   }
  },
  {
   "cell_type": "markdown",
   "source": [],
   "metadata": {
    "collapsed": false
   }
  },
  {
   "cell_type": "markdown",
   "source": [
    "## 3. Proszę przedstawić przykład klasyfikacji tekstu za pomocą sieci neuronowej (może to być tzw. analiza sentymentu)."
   ],
   "metadata": {
    "collapsed": false,
    "pycharm": {
     "name": "#%% md\n"
    }
   }
  },
  {
   "cell_type": "code",
   "execution_count": null,
   "outputs": [],
   "source": [],
   "metadata": {
    "collapsed": false,
    "pycharm": {
     "name": "#%%\n"
    }
   }
  },
  {
   "cell_type": "markdown",
   "source": [
    "## 4. Proszę przedstawić przykład uczenia szeregu czasowego za pomocą sieci neuronowej. Dane można wygenerować samodzielnie w postaci pewnego przebiegu funkcyjnego."
   ],
   "metadata": {
    "collapsed": false
   }
  },
  {
   "cell_type": "code",
   "execution_count": null,
   "outputs": [],
   "source": [],
   "metadata": {
    "collapsed": false,
    "pycharm": {
     "name": "#%%\n"
    }
   }
  },
  {
   "cell_type": "markdown",
   "source": [
    "## 5. Please provide an example of text generation using a neural network."
   ],
   "metadata": {
    "collapsed": false
   }
  },
  {
   "cell_type": "code",
   "execution_count": null,
   "outputs": [],
   "source": [],
   "metadata": {
    "collapsed": false,
    "pycharm": {
     "name": "#%%\n"
    }
   }
  },
  {
   "cell_type": "markdown",
   "source": [
    "## 6. Please provide an example of text translation using a neural network."
   ],
   "metadata": {
    "collapsed": false
   }
  }
 ],
 "metadata": {
  "kernelspec": {
   "display_name": "Python 3",
   "language": "python",
   "name": "python3"
  },
  "language_info": {
   "codemirror_mode": {
    "name": "ipython",
    "version": 2
   },
   "file_extension": ".py",
   "mimetype": "text/x-python",
   "name": "python",
   "nbconvert_exporter": "python",
   "pygments_lexer": "ipython2",
   "version": "2.7.6"
  }
 },
 "nbformat": 4,
 "nbformat_minor": 0
}